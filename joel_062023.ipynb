{
 "cells": [
  {
   "cell_type": "code",
   "execution_count": 404,
   "id": "56ad9983",
   "metadata": {
    "vscode": {
     "languageId": "r"
    }
   },
   "outputs": [
    {
     "data": {
      "text/html": [
       "<style>\n",
       ".list-inline {list-style: none; margin:0; padding: 0}\n",
       ".list-inline>li {display: inline-block}\n",
       ".list-inline>li:not(:last-child)::after {content: \"\\00b7\"; padding: 0 .5ex}\n",
       "</style>\n",
       "<ol class=list-inline><li>374</li><li>13</li></ol>\n"
      ],
      "text/latex": [
       "\\begin{enumerate*}\n",
       "\\item 374\n",
       "\\item 13\n",
       "\\end{enumerate*}\n"
      ],
      "text/markdown": [
       "1. 374\n",
       "2. 13\n",
       "\n",
       "\n"
      ],
      "text/plain": [
       "[1] 374  13"
      ]
     },
     "metadata": {},
     "output_type": "display_data"
    },
    {
     "data": {
      "text/html": [
       "<table class=\"dataframe\">\n",
       "<caption>A data.frame: 6 × 13</caption>\n",
       "<thead>\n",
       "\t<tr><th></th><th scope=col>Person.ID</th><th scope=col>Gender</th><th scope=col>Age</th><th scope=col>Occupation</th><th scope=col>Sleep.Duration</th><th scope=col>Quality.of.Sleep</th><th scope=col>Physical.Activity.Level</th><th scope=col>Stress.Level</th><th scope=col>BMI.Category</th><th scope=col>Blood.Pressure</th><th scope=col>Heart.Rate</th><th scope=col>Daily.Steps</th><th scope=col>Sleep.Disorder</th></tr>\n",
       "\t<tr><th></th><th scope=col>&lt;int&gt;</th><th scope=col>&lt;chr&gt;</th><th scope=col>&lt;int&gt;</th><th scope=col>&lt;chr&gt;</th><th scope=col>&lt;dbl&gt;</th><th scope=col>&lt;int&gt;</th><th scope=col>&lt;int&gt;</th><th scope=col>&lt;int&gt;</th><th scope=col>&lt;chr&gt;</th><th scope=col>&lt;chr&gt;</th><th scope=col>&lt;int&gt;</th><th scope=col>&lt;int&gt;</th><th scope=col>&lt;chr&gt;</th></tr>\n",
       "</thead>\n",
       "<tbody>\n",
       "\t<tr><th scope=row>1</th><td>1</td><td>Male</td><td>27</td><td>Software Engineer   </td><td>6.1</td><td>6</td><td>42</td><td>6</td><td>Overweight</td><td>126/83</td><td>77</td><td> 4200</td><td>None       </td></tr>\n",
       "\t<tr><th scope=row>2</th><td>2</td><td>Male</td><td>28</td><td>Doctor              </td><td>6.2</td><td>6</td><td>60</td><td>8</td><td>Normal    </td><td>125/80</td><td>75</td><td>10000</td><td>None       </td></tr>\n",
       "\t<tr><th scope=row>3</th><td>3</td><td>Male</td><td>28</td><td>Doctor              </td><td>6.2</td><td>6</td><td>60</td><td>8</td><td>Normal    </td><td>125/80</td><td>75</td><td>10000</td><td>None       </td></tr>\n",
       "\t<tr><th scope=row>4</th><td>4</td><td>Male</td><td>28</td><td>Sales Representative</td><td>5.9</td><td>4</td><td>30</td><td>8</td><td>Obese     </td><td>140/90</td><td>85</td><td> 3000</td><td>Sleep Apnea</td></tr>\n",
       "\t<tr><th scope=row>5</th><td>5</td><td>Male</td><td>28</td><td>Sales Representative</td><td>5.9</td><td>4</td><td>30</td><td>8</td><td>Obese     </td><td>140/90</td><td>85</td><td> 3000</td><td>Sleep Apnea</td></tr>\n",
       "\t<tr><th scope=row>6</th><td>6</td><td>Male</td><td>28</td><td>Software Engineer   </td><td>5.9</td><td>4</td><td>30</td><td>8</td><td>Obese     </td><td>140/90</td><td>85</td><td> 3000</td><td>Insomnia   </td></tr>\n",
       "</tbody>\n",
       "</table>\n"
      ],
      "text/latex": [
       "A data.frame: 6 × 13\n",
       "\\begin{tabular}{r|lllllllllllll}\n",
       "  & Person.ID & Gender & Age & Occupation & Sleep.Duration & Quality.of.Sleep & Physical.Activity.Level & Stress.Level & BMI.Category & Blood.Pressure & Heart.Rate & Daily.Steps & Sleep.Disorder\\\\\n",
       "  & <int> & <chr> & <int> & <chr> & <dbl> & <int> & <int> & <int> & <chr> & <chr> & <int> & <int> & <chr>\\\\\n",
       "\\hline\n",
       "\t1 & 1 & Male & 27 & Software Engineer    & 6.1 & 6 & 42 & 6 & Overweight & 126/83 & 77 &  4200 & None       \\\\\n",
       "\t2 & 2 & Male & 28 & Doctor               & 6.2 & 6 & 60 & 8 & Normal     & 125/80 & 75 & 10000 & None       \\\\\n",
       "\t3 & 3 & Male & 28 & Doctor               & 6.2 & 6 & 60 & 8 & Normal     & 125/80 & 75 & 10000 & None       \\\\\n",
       "\t4 & 4 & Male & 28 & Sales Representative & 5.9 & 4 & 30 & 8 & Obese      & 140/90 & 85 &  3000 & Sleep Apnea\\\\\n",
       "\t5 & 5 & Male & 28 & Sales Representative & 5.9 & 4 & 30 & 8 & Obese      & 140/90 & 85 &  3000 & Sleep Apnea\\\\\n",
       "\t6 & 6 & Male & 28 & Software Engineer    & 5.9 & 4 & 30 & 8 & Obese      & 140/90 & 85 &  3000 & Insomnia   \\\\\n",
       "\\end{tabular}\n"
      ],
      "text/markdown": [
       "\n",
       "A data.frame: 6 × 13\n",
       "\n",
       "| <!--/--> | Person.ID &lt;int&gt; | Gender &lt;chr&gt; | Age &lt;int&gt; | Occupation &lt;chr&gt; | Sleep.Duration &lt;dbl&gt; | Quality.of.Sleep &lt;int&gt; | Physical.Activity.Level &lt;int&gt; | Stress.Level &lt;int&gt; | BMI.Category &lt;chr&gt; | Blood.Pressure &lt;chr&gt; | Heart.Rate &lt;int&gt; | Daily.Steps &lt;int&gt; | Sleep.Disorder &lt;chr&gt; |\n",
       "|---|---|---|---|---|---|---|---|---|---|---|---|---|---|\n",
       "| 1 | 1 | Male | 27 | Software Engineer    | 6.1 | 6 | 42 | 6 | Overweight | 126/83 | 77 |  4200 | None        |\n",
       "| 2 | 2 | Male | 28 | Doctor               | 6.2 | 6 | 60 | 8 | Normal     | 125/80 | 75 | 10000 | None        |\n",
       "| 3 | 3 | Male | 28 | Doctor               | 6.2 | 6 | 60 | 8 | Normal     | 125/80 | 75 | 10000 | None        |\n",
       "| 4 | 4 | Male | 28 | Sales Representative | 5.9 | 4 | 30 | 8 | Obese      | 140/90 | 85 |  3000 | Sleep Apnea |\n",
       "| 5 | 5 | Male | 28 | Sales Representative | 5.9 | 4 | 30 | 8 | Obese      | 140/90 | 85 |  3000 | Sleep Apnea |\n",
       "| 6 | 6 | Male | 28 | Software Engineer    | 5.9 | 4 | 30 | 8 | Obese      | 140/90 | 85 |  3000 | Insomnia    |\n",
       "\n"
      ],
      "text/plain": [
       "  Person.ID Gender Age Occupation           Sleep.Duration Quality.of.Sleep\n",
       "1 1         Male   27  Software Engineer    6.1            6               \n",
       "2 2         Male   28  Doctor               6.2            6               \n",
       "3 3         Male   28  Doctor               6.2            6               \n",
       "4 4         Male   28  Sales Representative 5.9            4               \n",
       "5 5         Male   28  Sales Representative 5.9            4               \n",
       "6 6         Male   28  Software Engineer    5.9            4               \n",
       "  Physical.Activity.Level Stress.Level BMI.Category Blood.Pressure Heart.Rate\n",
       "1 42                      6            Overweight   126/83         77        \n",
       "2 60                      8            Normal       125/80         75        \n",
       "3 60                      8            Normal       125/80         75        \n",
       "4 30                      8            Obese        140/90         85        \n",
       "5 30                      8            Obese        140/90         85        \n",
       "6 30                      8            Obese        140/90         85        \n",
       "  Daily.Steps Sleep.Disorder\n",
       "1  4200       None          \n",
       "2 10000       None          \n",
       "3 10000       None          \n",
       "4  3000       Sleep Apnea   \n",
       "5  3000       Sleep Apnea   \n",
       "6  3000       Insomnia      "
      ]
     },
     "metadata": {},
     "output_type": "display_data"
    },
    {
     "name": "stdout",
     "output_type": "stream",
     "text": [
      "'data.frame':\t374 obs. of  13 variables:\n",
      " $ Person.ID              : int  1 2 3 4 5 6 7 8 9 10 ...\n",
      " $ Gender                 : chr  \"Male\" \"Male\" \"Male\" \"Male\" ...\n",
      " $ Age                    : int  27 28 28 28 28 28 29 29 29 29 ...\n",
      " $ Occupation             : chr  \"Software Engineer\" \"Doctor\" \"Doctor\" \"Sales Representative\" ...\n",
      " $ Sleep.Duration         : num  6.1 6.2 6.2 5.9 5.9 5.9 6.3 7.8 7.8 7.8 ...\n",
      " $ Quality.of.Sleep       : int  6 6 6 4 4 4 6 7 7 7 ...\n",
      " $ Physical.Activity.Level: int  42 60 60 30 30 30 40 75 75 75 ...\n",
      " $ Stress.Level           : int  6 8 8 8 8 8 7 6 6 6 ...\n",
      " $ BMI.Category           : chr  \"Overweight\" \"Normal\" \"Normal\" \"Obese\" ...\n",
      " $ Blood.Pressure         : chr  \"126/83\" \"125/80\" \"125/80\" \"140/90\" ...\n",
      " $ Heart.Rate             : int  77 75 75 85 85 85 82 70 70 70 ...\n",
      " $ Daily.Steps            : int  4200 10000 10000 3000 3000 3000 3500 8000 8000 8000 ...\n",
      " $ Sleep.Disorder         : chr  \"None\" \"None\" \"None\" \"Sleep Apnea\" ...\n"
     ]
    }
   ],
   "source": [
    "# Load the required packages\n",
    "library(ggplot2)\n",
    "library(gridExtra)\n",
    "library(caret)\n",
    "library(tidyverse)\n",
    "library(corrplot)\n",
    "library(dplyr)\n",
    "library(ggfortify)\n",
    "\n",
    "# Import dataset as a csv file from GitHub\n",
    "url <- \"https://raw.githubusercontent.com/VSbr22/ADS503-Group-Project/main/sleep.csv\"\n",
    "sleep <- read.csv(url)\n",
    "\n",
    "# View df header and dimensions\n",
    "dim(sleep)\n",
    "head(sleep)\n",
    "\n",
    "# Display the Variable names, Data types, and Instance examples\n",
    "str(sleep)"
   ]
  },
  {
   "cell_type": "code",
   "execution_count": 405,
   "id": "5b09aa70",
   "metadata": {
    "vscode": {
     "languageId": "r"
    }
   },
   "outputs": [],
   "source": [
    "# Target Variable: Sleep Disorder\n",
    "\n",
    "# (5)Numerical: age, sleep duration, physical activity level, heart rate, daily steps\n",
    "# (2)Ordinal: quality of sleep, stress level\n",
    "numerical_ordinal_predictors <- c(\"Age\", \"Sleep.Duration\", \"Physical.Activity.Level\", \"Heart.Rate\", \n",
    "    \"Daily.Steps\", \"Quality.of.Sleep\", \"Stress.Level\")\n",
    "# (5)Categorical: gender, occupation, !!!BMI category!!!, !!blood pressure(will convert to catgorical)!!\n",
    "categorical_predictors <- c(\"Gender\", \"Occupation\", \"BMI.Category\", \"Blood.Pressure\")"
   ]
  },
  {
   "cell_type": "code",
   "execution_count": 406,
   "id": "535c51c3",
   "metadata": {
    "vscode": {
     "languageId": "r"
    }
   },
   "outputs": [
    {
     "name": "stdout",
     "output_type": "stream",
     "text": [
      "[1] \"Age\"\n",
      "   Min. 1st Qu.  Median    Mean 3rd Qu.    Max. \n",
      "  27.00   35.25   43.00   42.18   50.00   59.00 \n",
      "[1] \"Sleep.Duration\"\n",
      "   Min. 1st Qu.  Median    Mean 3rd Qu.    Max. \n",
      "  5.800   6.400   7.200   7.132   7.800   8.500 \n",
      "[1] \"Physical.Activity.Level\"\n",
      "   Min. 1st Qu.  Median    Mean 3rd Qu.    Max. \n",
      "  30.00   45.00   60.00   59.17   75.00   90.00 \n",
      "[1] \"Heart.Rate\"\n",
      "   Min. 1st Qu.  Median    Mean 3rd Qu.    Max. \n",
      "  65.00   68.00   70.00   70.17   72.00   86.00 \n",
      "[1] \"Daily.Steps\"\n",
      "   Min. 1st Qu.  Median    Mean 3rd Qu.    Max. \n",
      "   3000    5600    7000    6817    8000   10000 \n",
      "[1] \"Quality.of.Sleep\"\n",
      "   Min. 1st Qu.  Median    Mean 3rd Qu.    Max. \n",
      "  4.000   6.000   7.000   7.313   8.000   9.000 \n",
      "[1] \"Stress.Level\"\n",
      "   Min. 1st Qu.  Median    Mean 3rd Qu.    Max. \n",
      "  3.000   4.000   5.000   5.385   7.000   8.000 \n"
     ]
    },
    {
     "data": {
      "image/png": "[encoded data removed]",
      "text/plain": [
       "plot without title"
      ]
     },
     "metadata": {
      "image/png": {
       "height": 420,
       "width": 420
      }
     },
     "output_type": "display_data"
    }
   ],
   "source": [
    "# Measures of Centrality & Histogram of Distribution for Numerical Predictors\n",
    "\n",
    "# Create list to store each predictors histogram. Plots are graphed after for-loop. \n",
    "numerical_ordinal_plot_list <- list()\n",
    "\n",
    "# Create Master list\n",
    "master_plot_list <- list()\n",
    "\n",
    "# Customize Bin Width for each Predictor\n",
    "bin_width <- c(.5, .2, 5, 2, 400, .25, 1)\n",
    "\n",
    "# For each predictor, print Measures of Centrality and add Histogram to the numerical_plot_list\n",
    "for (i in 1:length(numerical_ordinal_predictors)) {\n",
    "    \n",
    "    # Print predicitor name then Measures of Centrality\n",
    "    print(numerical_ordinal_predictors[i])\n",
    "    print(summary(sleep[[numerical_ordinal_predictors[i]]]))\n",
    "    \n",
    "    # Create Histogram\n",
    "    p <- ggplot(sleep, aes_string(x= numerical_ordinal_predictors[i])) + \n",
    "        geom_histogram(binwidth = bin_width[i] , fill = \"brown\", color = \"black\")\n",
    "    \n",
    "    # Add Historgram to List\n",
    "    numerical_ordinal_plot_list[[i]] <- p\n",
    "    master_plot_list[[i]] <- p\n",
    "}\n",
    "\n",
    "# Print all the histgrams in a more aesthetic way\n",
    "grid.arrange(grobs = numerical_ordinal_plot_list, ncol = 2)"
   ]
  },
  {
   "cell_type": "code",
   "execution_count": 407,
   "id": "a7dcbe8f",
   "metadata": {
    "vscode": {
     "languageId": "r"
    }
   },
   "outputs": [
    {
     "data": {
      "image/png": "[encoded data removed]",
      "text/plain": [
       "plot without title"
      ]
     },
     "metadata": {
      "image/png": {
       "height": 420,
       "width": 420
      }
     },
     "output_type": "display_data"
    }
   ],
   "source": [
    "# Check for Class Imbalance in the Categorical Predictors\n",
    "\n",
    "# Create list to store each predictors histogram. Plots are graphed after for-loop. \n",
    "categorical_plot_list <- list()\n",
    "\n",
    "# For each specified column, create a bar plot\n",
    "for (i in 1:length(categorical_predictors)) {\n",
    "    p <- ggplot(sleep, aes_string(categorical_predictors[i])) + geom_bar(fill = \"blue\") + theme_minimal()\n",
    "    g = i + length(numerical_ordinal_predictors)\n",
    "    categorical_plot_list[[i]] <- p\n",
    "    master_plot_list[[g]] <- p\n",
    "}\n",
    "\n",
    "# Print only the barplots\n",
    "grid.arrange(grobs = categorical_plot_list, ncol = 2)\n",
    "\n",
    "# Print the Master Plot list with both Histograms & Bar Plots.\n",
    "#grid.arrange(grobs = master_plot_list, ncol = 2)"
   ]
  },
  {
   "cell_type": "code",
   "execution_count": 408,
   "id": "d950719e",
   "metadata": {
    "vscode": {
     "languageId": "r"
    }
   },
   "outputs": [
    {
     "name": "stdout",
     "output_type": "stream",
     "text": [
      "\n",
      "   Insomnia        None Sleep Apnea \n",
      "         77         219          78 \n",
      "\n",
      "   Insomnia        None Sleep Apnea \n",
      "  0.2058824   0.5855615   0.2085561 \n"
     ]
    },
    {
     "data": {
      "image/png": "[encoded data removed]",
      "text/plain": [
       "Plot with title \"Sleep Disorder Origonal\""
      ]
     },
     "metadata": {
      "image/png": {
       "height": 420,
       "width": 420
      }
     },
     "output_type": "display_data"
    }
   ],
   "source": [
    "# Check for Class Imbalance in the Target Variable \n",
    "\n",
    "# Class Counts\n",
    "class_counts <- table(sleep$Sleep.Disorder)\n",
    "print(class_counts)\n",
    "\n",
    "# Class Percentages\n",
    "class_prop <- prop.table(class_counts)\n",
    "print(class_prop)\n",
    "\n",
    "# Class Barchart\n",
    "barplot(class_counts, main = \"Sleep Disorder Origonal\")\n",
    "\n",
    "# There is class imbalance with the Target Varibale Sleep.Disorder - None being higher than both sleep apnea and insomnia.\n",
    "# Stratified Sampling will be used to ensure equal class ditrobution in both testing and training sets"
   ]
  },
  {
   "cell_type": "code",
   "execution_count": 409,
   "id": "b8d1cc12",
   "metadata": {
    "vscode": {
     "languageId": "r"
    }
   },
   "outputs": [
    {
     "data": {
      "text/html": [
       "<table class=\"dataframe\">\n",
       "<caption>A data.frame: 6 × 14</caption>\n",
       "<thead>\n",
       "\t<tr><th></th><th scope=col>Person.ID</th><th scope=col>Gender</th><th scope=col>Age</th><th scope=col>Occupation</th><th scope=col>Sleep.Duration</th><th scope=col>Quality.of.Sleep</th><th scope=col>Physical.Activity.Level</th><th scope=col>Stress.Level</th><th scope=col>BMI.Category</th><th scope=col>Blood.Pressure</th><th scope=col>Heart.Rate</th><th scope=col>Daily.Steps</th><th scope=col>Sleep.Disorder</th><th scope=col>Sleep.Disorder.Binary</th></tr>\n",
       "\t<tr><th></th><th scope=col>&lt;int&gt;</th><th scope=col>&lt;chr&gt;</th><th scope=col>&lt;int&gt;</th><th scope=col>&lt;chr&gt;</th><th scope=col>&lt;dbl&gt;</th><th scope=col>&lt;int&gt;</th><th scope=col>&lt;int&gt;</th><th scope=col>&lt;int&gt;</th><th scope=col>&lt;chr&gt;</th><th scope=col>&lt;chr&gt;</th><th scope=col>&lt;int&gt;</th><th scope=col>&lt;int&gt;</th><th scope=col>&lt;chr&gt;</th><th scope=col>&lt;fct&gt;</th></tr>\n",
       "</thead>\n",
       "<tbody>\n",
       "\t<tr><th scope=row>1</th><td>1</td><td>Male</td><td>27</td><td>Software Engineer   </td><td>6.1</td><td>6</td><td>42</td><td>6</td><td>Overweight</td><td>126/83</td><td>77</td><td> 4200</td><td>None       </td><td>No </td></tr>\n",
       "\t<tr><th scope=row>2</th><td>2</td><td>Male</td><td>28</td><td>Doctor              </td><td>6.2</td><td>6</td><td>60</td><td>8</td><td>Normal    </td><td>125/80</td><td>75</td><td>10000</td><td>None       </td><td>No </td></tr>\n",
       "\t<tr><th scope=row>3</th><td>3</td><td>Male</td><td>28</td><td>Doctor              </td><td>6.2</td><td>6</td><td>60</td><td>8</td><td>Normal    </td><td>125/80</td><td>75</td><td>10000</td><td>None       </td><td>No </td></tr>\n",
       "\t<tr><th scope=row>4</th><td>4</td><td>Male</td><td>28</td><td>Sales Representative</td><td>5.9</td><td>4</td><td>30</td><td>8</td><td>Obese     </td><td>140/90</td><td>85</td><td> 3000</td><td>Sleep Apnea</td><td>Yes</td></tr>\n",
       "\t<tr><th scope=row>5</th><td>5</td><td>Male</td><td>28</td><td>Sales Representative</td><td>5.9</td><td>4</td><td>30</td><td>8</td><td>Obese     </td><td>140/90</td><td>85</td><td> 3000</td><td>Sleep Apnea</td><td>Yes</td></tr>\n",
       "\t<tr><th scope=row>6</th><td>6</td><td>Male</td><td>28</td><td>Software Engineer   </td><td>5.9</td><td>4</td><td>30</td><td>8</td><td>Obese     </td><td>140/90</td><td>85</td><td> 3000</td><td>Insomnia   </td><td>Yes</td></tr>\n",
       "</tbody>\n",
       "</table>\n"
      ],
      "text/latex": [
       "A data.frame: 6 × 14\n",
       "\\begin{tabular}{r|llllllllllllll}\n",
       "  & Person.ID & Gender & Age & Occupation & Sleep.Duration & Quality.of.Sleep & Physical.Activity.Level & Stress.Level & BMI.Category & Blood.Pressure & Heart.Rate & Daily.Steps & Sleep.Disorder & Sleep.Disorder.Binary\\\\\n",
       "  & <int> & <chr> & <int> & <chr> & <dbl> & <int> & <int> & <int> & <chr> & <chr> & <int> & <int> & <chr> & <fct>\\\\\n",
       "\\hline\n",
       "\t1 & 1 & Male & 27 & Software Engineer    & 6.1 & 6 & 42 & 6 & Overweight & 126/83 & 77 &  4200 & None        & No \\\\\n",
       "\t2 & 2 & Male & 28 & Doctor               & 6.2 & 6 & 60 & 8 & Normal     & 125/80 & 75 & 10000 & None        & No \\\\\n",
       "\t3 & 3 & Male & 28 & Doctor               & 6.2 & 6 & 60 & 8 & Normal     & 125/80 & 75 & 10000 & None        & No \\\\\n",
       "\t4 & 4 & Male & 28 & Sales Representative & 5.9 & 4 & 30 & 8 & Obese      & 140/90 & 85 &  3000 & Sleep Apnea & Yes\\\\\n",
       "\t5 & 5 & Male & 28 & Sales Representative & 5.9 & 4 & 30 & 8 & Obese      & 140/90 & 85 &  3000 & Sleep Apnea & Yes\\\\\n",
       "\t6 & 6 & Male & 28 & Software Engineer    & 5.9 & 4 & 30 & 8 & Obese      & 140/90 & 85 &  3000 & Insomnia    & Yes\\\\\n",
       "\\end{tabular}\n"
      ],
      "text/markdown": [
       "\n",
       "A data.frame: 6 × 14\n",
       "\n",
       "| <!--/--> | Person.ID &lt;int&gt; | Gender &lt;chr&gt; | Age &lt;int&gt; | Occupation &lt;chr&gt; | Sleep.Duration &lt;dbl&gt; | Quality.of.Sleep &lt;int&gt; | Physical.Activity.Level &lt;int&gt; | Stress.Level &lt;int&gt; | BMI.Category &lt;chr&gt; | Blood.Pressure &lt;chr&gt; | Heart.Rate &lt;int&gt; | Daily.Steps &lt;int&gt; | Sleep.Disorder &lt;chr&gt; | Sleep.Disorder.Binary &lt;fct&gt; |\n",
       "|---|---|---|---|---|---|---|---|---|---|---|---|---|---|---|\n",
       "| 1 | 1 | Male | 27 | Software Engineer    | 6.1 | 6 | 42 | 6 | Overweight | 126/83 | 77 |  4200 | None        | No  |\n",
       "| 2 | 2 | Male | 28 | Doctor               | 6.2 | 6 | 60 | 8 | Normal     | 125/80 | 75 | 10000 | None        | No  |\n",
       "| 3 | 3 | Male | 28 | Doctor               | 6.2 | 6 | 60 | 8 | Normal     | 125/80 | 75 | 10000 | None        | No  |\n",
       "| 4 | 4 | Male | 28 | Sales Representative | 5.9 | 4 | 30 | 8 | Obese      | 140/90 | 85 |  3000 | Sleep Apnea | Yes |\n",
       "| 5 | 5 | Male | 28 | Sales Representative | 5.9 | 4 | 30 | 8 | Obese      | 140/90 | 85 |  3000 | Sleep Apnea | Yes |\n",
       "| 6 | 6 | Male | 28 | Software Engineer    | 5.9 | 4 | 30 | 8 | Obese      | 140/90 | 85 |  3000 | Insomnia    | Yes |\n",
       "\n"
      ],
      "text/plain": [
       "  Person.ID Gender Age Occupation           Sleep.Duration Quality.of.Sleep\n",
       "1 1         Male   27  Software Engineer    6.1            6               \n",
       "2 2         Male   28  Doctor               6.2            6               \n",
       "3 3         Male   28  Doctor               6.2            6               \n",
       "4 4         Male   28  Sales Representative 5.9            4               \n",
       "5 5         Male   28  Sales Representative 5.9            4               \n",
       "6 6         Male   28  Software Engineer    5.9            4               \n",
       "  Physical.Activity.Level Stress.Level BMI.Category Blood.Pressure Heart.Rate\n",
       "1 42                      6            Overweight   126/83         77        \n",
       "2 60                      8            Normal       125/80         75        \n",
       "3 60                      8            Normal       125/80         75        \n",
       "4 30                      8            Obese        140/90         85        \n",
       "5 30                      8            Obese        140/90         85        \n",
       "6 30                      8            Obese        140/90         85        \n",
       "  Daily.Steps Sleep.Disorder Sleep.Disorder.Binary\n",
       "1  4200       None           No                   \n",
       "2 10000       None           No                   \n",
       "3 10000       None           No                   \n",
       "4  3000       Sleep Apnea    Yes                  \n",
       "5  3000       Sleep Apnea    Yes                  \n",
       "6  3000       Insomnia       Yes                  "
      ]
     },
     "metadata": {},
     "output_type": "display_data"
    }
   ],
   "source": [
    "# Turn Target Variable into Binary\n",
    "\n",
    "Sleep.Disorder.Binary = as.character(sleep$Sleep.Disorder)\n",
    "Sleep.Disorder.Binary[Sleep.Disorder.Binary==\"Insomnia\" ] = \"Yes\"\n",
    "Sleep.Disorder.Binary[Sleep.Disorder.Binary==\"Sleep Apnea\" ] = \"Yes\"\n",
    "Sleep.Disorder.Binary[Sleep.Disorder.Binary==\"None\" ] = \"No\"\n",
    "Sleep.Disorder.Binary = factor(Sleep.Disorder.Binary, levels=c(\"Yes\",\"No\") )\n",
    "sleep <- cbind(sleep, Sleep.Disorder.Binary)\n",
    "\n",
    "head(sleep)"
   ]
  },
  {
   "cell_type": "code",
   "execution_count": 410,
   "id": "668998a1",
   "metadata": {
    "vscode": {
     "languageId": "r"
    }
   },
   "outputs": [],
   "source": [
    "# To Drop Columns in needed\n",
    "sleep <- sleep %>% select(-Sleep.Disorder)\n",
    "#head(sleep, n=3)"
   ]
  },
  {
   "cell_type": "code",
   "execution_count": 411,
   "id": "1a850cf0",
   "metadata": {
    "vscode": {
     "languageId": "r"
    }
   },
   "outputs": [
    {
     "data": {
      "text/html": [
       "<style>\n",
       ".list-inline {list-style: none; margin:0; padding: 0}\n",
       ".list-inline>li {display: inline-block}\n",
       ".list-inline>li:not(:last-child)::after {content: \"\\00b7\"; padding: 0 .5ex}\n",
       "</style>\n",
       "<ol class=list-inline><li>263</li><li>13</li></ol>\n"
      ],
      "text/latex": [
       "\\begin{enumerate*}\n",
       "\\item 263\n",
       "\\item 13\n",
       "\\end{enumerate*}\n"
      ],
      "text/markdown": [
       "1. 263\n",
       "2. 13\n",
       "\n",
       "\n"
      ],
      "text/plain": [
       "[1] 263  13"
      ]
     },
     "metadata": {},
     "output_type": "display_data"
    },
    {
     "data": {
      "text/html": [
       "<style>\n",
       ".list-inline {list-style: none; margin:0; padding: 0}\n",
       ".list-inline>li {display: inline-block}\n",
       ".list-inline>li:not(:last-child)::after {content: \"\\00b7\"; padding: 0 .5ex}\n",
       "</style>\n",
       "<ol class=list-inline><li>111</li><li>13</li></ol>\n"
      ],
      "text/latex": [
       "\\begin{enumerate*}\n",
       "\\item 111\n",
       "\\item 13\n",
       "\\end{enumerate*}\n"
      ],
      "text/markdown": [
       "1. 111\n",
       "2. 13\n",
       "\n",
       "\n"
      ],
      "text/plain": [
       "[1] 111  13"
      ]
     },
     "metadata": {},
     "output_type": "display_data"
    },
    {
     "data": {
      "image/png": "[encoded data removed]",
      "text/plain": [
       "Plot with title \"Sleep Disorder Train\""
      ]
     },
     "metadata": {
      "image/png": {
       "height": 420,
       "width": 420
      }
     },
     "output_type": "display_data"
    },
    {
     "data": {
      "image/png": "[encoded data removed]",
      "text/plain": [
       "Plot with title \"Sleep Disorder Test\""
      ]
     },
     "metadata": {
      "image/png": {
       "height": 420,
       "width": 420
      }
     },
     "output_type": "display_data"
    }
   ],
   "source": [
    "# Create Test and Train Partitions with balanced Sleep.Disorder classes\n",
    "\n",
    "# Set Seed for Repitition\n",
    "set.seed(13)\n",
    "\n",
    "# Seperate Dependent and Independnet Variables\n",
    "x <- sleep[, -13]\n",
    "y <- sleep$Sleep.Disorder\n",
    "\n",
    "# Perform data partition\n",
    "split_strat <- createDataPartition(y = sleep$Sleep.Disorder, p = 0.7, list = FALSE)\n",
    "\n",
    "# Split into testing and training sets. Show new dimensions\n",
    "train <- sleep[split_strat, ]\n",
    "test <- sleep[-split_strat, ]\n",
    "dim(train)\n",
    "dim(test)\n",
    "\n",
    "# Check for equal class ditrobution of Target variable in both testing and training sets\n",
    "# Bar Plots of Sleep.Disorder class distrobution for both Test and Train\n",
    "train_plot <- barplot(table(train$Sleep.Disorder), main = \"Sleep Disorder Train\")\n",
    "test_plot <- barplot(table(test$Sleep.Disorder), main = \"Sleep Disorder Test\")"
   ]
  },
  {
   "cell_type": "code",
   "execution_count": 412,
   "id": "c934985a",
   "metadata": {
    "vscode": {
     "languageId": "r"
    }
   },
   "outputs": [],
   "source": [
    "# Feature Transformations\n",
    "\n",
    "# Drop Person.ID because it is meaningless for the dataset\n",
    "train$Person.ID <- NULL\n",
    "test$Person.ID <- NULL\n",
    "\n",
    "# Create two new columns for Blood pressure\n",
    "train <- train %>% separate(Blood.Pressure, into = c(\"Systolic\", \"Diastolic\"), sep = \"/\", convert = TRUE)\n",
    "test <- test %>% separate(Blood.Pressure, into = c(\"Systolic\", \"Diastolic\"), sep = \"/\", convert = TRUE)\n",
    "\n",
    "# make them numeric \n",
    "train$Systolic <- as.numeric(train$Systolic)\n",
    "train$Diastolic <- as.numeric(train$Diastolic)\n",
    "test$Systolic <- as.numeric(test$Systolic)\n",
    "test$Diastolic <- as.numeric(test$Diastolic)"
   ]
  },
  {
   "cell_type": "code",
   "execution_count": 413,
   "id": "2532c65b",
   "metadata": {
    "vscode": {
     "languageId": "r"
    }
   },
   "outputs": [],
   "source": [
    "# Binning Predictors\n",
    "# If your data follows a certain distribution, choose a discretization method that aligns with that distribution.\n",
    "# Categorizing a cont outcome can have detrimental impacts on model performance especially when the distribution does not have distinct groupings.\n",
    "\n",
    "# Perform K-means Disrimitization on the Systolic variable\n",
    "# Fit the k-means to the training data and then apply the same binning to the test data.\n",
    "#km_res <- kmeans(train$Systolic, centers = 3)\n",
    "\n",
    "# Add the result to your data frame as a new column\n",
    "#train <- train %>% mutate(Systolic_New = km_res$cluster)\n",
    "#test <- test %>% mutate(Systolic_New = km_res$cluster)\n",
    "\n",
    "# Remove the 'Systolic' column\n",
    "#train <- train %>% select(-Systolic)\n",
    "#test <- test %>% select(-Systolic)\n",
    "\n",
    "# Print the updated dataframe\n",
    "#head(train, n=3)"
   ]
  },
  {
   "cell_type": "code",
   "execution_count": 414,
   "id": "2f0c7df9",
   "metadata": {
    "vscode": {
     "languageId": "r"
    }
   },
   "outputs": [
    {
     "name": "stdout",
     "output_type": "stream",
     "text": [
      "[1] 1\n"
     ]
    },
    {
     "data": {
      "text/html": [
       "'OccupationManager'"
      ],
      "text/latex": [
       "'OccupationManager'"
      ],
      "text/markdown": [
       "'OccupationManager'"
      ],
      "text/plain": [
       "[1] \"OccupationManager\""
      ]
     },
     "metadata": {},
     "output_type": "display_data"
    },
    {
     "name": "stdout",
     "output_type": "stream",
     "text": [
      "[1] 0\n"
     ]
    },
    {
     "data": {
      "text/html": [
       "<table class=\"dataframe\">\n",
       "<caption>A data.frame: 3 × 28</caption>\n",
       "<thead>\n",
       "\t<tr><th></th><th scope=col>GenderFemale</th><th scope=col>GenderMale</th><th scope=col>Age</th><th scope=col>OccupationAccountant</th><th scope=col>OccupationDoctor</th><th scope=col>OccupationEngineer</th><th scope=col>OccupationLawyer</th><th scope=col>OccupationManager</th><th scope=col>OccupationNurse</th><th scope=col>OccupationSales.Representative</th><th scope=col>⋯</th><th scope=col>BMI.CategoryNormal</th><th scope=col>BMI.CategoryNormal.Weight</th><th scope=col>BMI.CategoryObese</th><th scope=col>BMI.CategoryOverweight</th><th scope=col>Systolic</th><th scope=col>Diastolic</th><th scope=col>Heart.Rate</th><th scope=col>Daily.Steps</th><th scope=col>Sleep.Disorder.Binary.Yes</th><th scope=col>Sleep.Disorder.Binary.No</th></tr>\n",
       "\t<tr><th></th><th scope=col>&lt;dbl&gt;</th><th scope=col>&lt;dbl&gt;</th><th scope=col>&lt;dbl&gt;</th><th scope=col>&lt;dbl&gt;</th><th scope=col>&lt;dbl&gt;</th><th scope=col>&lt;dbl&gt;</th><th scope=col>&lt;dbl&gt;</th><th scope=col>&lt;dbl&gt;</th><th scope=col>&lt;dbl&gt;</th><th scope=col>&lt;dbl&gt;</th><th scope=col>⋯</th><th scope=col>&lt;dbl&gt;</th><th scope=col>&lt;dbl&gt;</th><th scope=col>&lt;dbl&gt;</th><th scope=col>&lt;dbl&gt;</th><th scope=col>&lt;dbl&gt;</th><th scope=col>&lt;dbl&gt;</th><th scope=col>&lt;dbl&gt;</th><th scope=col>&lt;dbl&gt;</th><th scope=col>&lt;dbl&gt;</th><th scope=col>&lt;dbl&gt;</th></tr>\n",
       "</thead>\n",
       "<tbody>\n",
       "\t<tr><th scope=row>1</th><td>0</td><td>1</td><td>27</td><td>0</td><td>0</td><td>0</td><td>0</td><td>0</td><td>0</td><td>0</td><td>⋯</td><td>0</td><td>0</td><td>0</td><td>1</td><td>126</td><td>83</td><td>77</td><td> 4200</td><td>0</td><td>1</td></tr>\n",
       "\t<tr><th scope=row>2</th><td>0</td><td>1</td><td>28</td><td>0</td><td>1</td><td>0</td><td>0</td><td>0</td><td>0</td><td>0</td><td>⋯</td><td>1</td><td>0</td><td>0</td><td>0</td><td>125</td><td>80</td><td>75</td><td>10000</td><td>0</td><td>1</td></tr>\n",
       "\t<tr><th scope=row>3</th><td>0</td><td>1</td><td>28</td><td>0</td><td>1</td><td>0</td><td>0</td><td>0</td><td>0</td><td>0</td><td>⋯</td><td>1</td><td>0</td><td>0</td><td>0</td><td>125</td><td>80</td><td>75</td><td>10000</td><td>0</td><td>1</td></tr>\n",
       "</tbody>\n",
       "</table>\n"
      ],
      "text/latex": [
       "A data.frame: 3 × 28\n",
       "\\begin{tabular}{r|lllllllllllllllllllll}\n",
       "  & GenderFemale & GenderMale & Age & OccupationAccountant & OccupationDoctor & OccupationEngineer & OccupationLawyer & OccupationManager & OccupationNurse & OccupationSales.Representative & ⋯ & BMI.CategoryNormal & BMI.CategoryNormal.Weight & BMI.CategoryObese & BMI.CategoryOverweight & Systolic & Diastolic & Heart.Rate & Daily.Steps & Sleep.Disorder.Binary.Yes & Sleep.Disorder.Binary.No\\\\\n",
       "  & <dbl> & <dbl> & <dbl> & <dbl> & <dbl> & <dbl> & <dbl> & <dbl> & <dbl> & <dbl> & ⋯ & <dbl> & <dbl> & <dbl> & <dbl> & <dbl> & <dbl> & <dbl> & <dbl> & <dbl> & <dbl>\\\\\n",
       "\\hline\n",
       "\t1 & 0 & 1 & 27 & 0 & 0 & 0 & 0 & 0 & 0 & 0 & ⋯ & 0 & 0 & 0 & 1 & 126 & 83 & 77 &  4200 & 0 & 1\\\\\n",
       "\t2 & 0 & 1 & 28 & 0 & 1 & 0 & 0 & 0 & 0 & 0 & ⋯ & 1 & 0 & 0 & 0 & 125 & 80 & 75 & 10000 & 0 & 1\\\\\n",
       "\t3 & 0 & 1 & 28 & 0 & 1 & 0 & 0 & 0 & 0 & 0 & ⋯ & 1 & 0 & 0 & 0 & 125 & 80 & 75 & 10000 & 0 & 1\\\\\n",
       "\\end{tabular}\n"
      ],
      "text/markdown": [
       "\n",
       "A data.frame: 3 × 28\n",
       "\n",
       "| <!--/--> | GenderFemale &lt;dbl&gt; | GenderMale &lt;dbl&gt; | Age &lt;dbl&gt; | OccupationAccountant &lt;dbl&gt; | OccupationDoctor &lt;dbl&gt; | OccupationEngineer &lt;dbl&gt; | OccupationLawyer &lt;dbl&gt; | OccupationManager &lt;dbl&gt; | OccupationNurse &lt;dbl&gt; | OccupationSales.Representative &lt;dbl&gt; | ⋯ ⋯ | BMI.CategoryNormal &lt;dbl&gt; | BMI.CategoryNormal.Weight &lt;dbl&gt; | BMI.CategoryObese &lt;dbl&gt; | BMI.CategoryOverweight &lt;dbl&gt; | Systolic &lt;dbl&gt; | Diastolic &lt;dbl&gt; | Heart.Rate &lt;dbl&gt; | Daily.Steps &lt;dbl&gt; | Sleep.Disorder.Binary.Yes &lt;dbl&gt; | Sleep.Disorder.Binary.No &lt;dbl&gt; |\n",
       "|---|---|---|---|---|---|---|---|---|---|---|---|---|---|---|---|---|---|---|---|---|---|\n",
       "| 1 | 0 | 1 | 27 | 0 | 0 | 0 | 0 | 0 | 0 | 0 | ⋯ | 0 | 0 | 0 | 1 | 126 | 83 | 77 |  4200 | 0 | 1 |\n",
       "| 2 | 0 | 1 | 28 | 0 | 1 | 0 | 0 | 0 | 0 | 0 | ⋯ | 1 | 0 | 0 | 0 | 125 | 80 | 75 | 10000 | 0 | 1 |\n",
       "| 3 | 0 | 1 | 28 | 0 | 1 | 0 | 0 | 0 | 0 | 0 | ⋯ | 1 | 0 | 0 | 0 | 125 | 80 | 75 | 10000 | 0 | 1 |\n",
       "\n"
      ],
      "text/plain": [
       "  GenderFemale GenderMale Age OccupationAccountant OccupationDoctor\n",
       "1 0            1          27  0                    0               \n",
       "2 0            1          28  0                    1               \n",
       "3 0            1          28  0                    1               \n",
       "  OccupationEngineer OccupationLawyer OccupationManager OccupationNurse\n",
       "1 0                  0                0                 0              \n",
       "2 0                  0                0                 0              \n",
       "3 0                  0                0                 0              \n",
       "  OccupationSales.Representative ⋯ BMI.CategoryNormal BMI.CategoryNormal.Weight\n",
       "1 0                              ⋯ 0                  0                        \n",
       "2 0                              ⋯ 1                  0                        \n",
       "3 0                              ⋯ 1                  0                        \n",
       "  BMI.CategoryObese BMI.CategoryOverweight Systolic Diastolic Heart.Rate\n",
       "1 0                 1                      126      83        77        \n",
       "2 0                 0                      125      80        75        \n",
       "3 0                 0                      125      80        75        \n",
       "  Daily.Steps Sleep.Disorder.Binary.Yes Sleep.Disorder.Binary.No\n",
       "1  4200       0                         1                       \n",
       "2 10000       0                         1                       \n",
       "3 10000       0                         1                       "
      ]
     },
     "metadata": {},
     "output_type": "display_data"
    },
    {
     "data": {
      "text/html": [
       "<table class=\"dataframe\">\n",
       "<caption>A data.frame: 3 × 28</caption>\n",
       "<thead>\n",
       "\t<tr><th></th><th scope=col>GenderFemale</th><th scope=col>GenderMale</th><th scope=col>Age</th><th scope=col>OccupationAccountant</th><th scope=col>OccupationDoctor</th><th scope=col>OccupationEngineer</th><th scope=col>OccupationLawyer</th><th scope=col>OccupationManager</th><th scope=col>OccupationNurse</th><th scope=col>OccupationSales.Representative</th><th scope=col>⋯</th><th scope=col>BMI.CategoryNormal</th><th scope=col>BMI.CategoryNormal.Weight</th><th scope=col>BMI.CategoryObese</th><th scope=col>BMI.CategoryOverweight</th><th scope=col>Systolic</th><th scope=col>Diastolic</th><th scope=col>Heart.Rate</th><th scope=col>Daily.Steps</th><th scope=col>Sleep.Disorder.Binary.Yes</th><th scope=col>Sleep.Disorder.Binary.No</th></tr>\n",
       "\t<tr><th></th><th scope=col>&lt;dbl&gt;</th><th scope=col>&lt;dbl&gt;</th><th scope=col>&lt;dbl&gt;</th><th scope=col>&lt;dbl&gt;</th><th scope=col>&lt;dbl&gt;</th><th scope=col>&lt;dbl&gt;</th><th scope=col>&lt;dbl&gt;</th><th scope=col>&lt;dbl&gt;</th><th scope=col>&lt;dbl&gt;</th><th scope=col>&lt;dbl&gt;</th><th scope=col>⋯</th><th scope=col>&lt;dbl&gt;</th><th scope=col>&lt;dbl&gt;</th><th scope=col>&lt;dbl&gt;</th><th scope=col>&lt;dbl&gt;</th><th scope=col>&lt;dbl&gt;</th><th scope=col>&lt;dbl&gt;</th><th scope=col>&lt;dbl&gt;</th><th scope=col>&lt;dbl&gt;</th><th scope=col>&lt;dbl&gt;</th><th scope=col>&lt;dbl&gt;</th></tr>\n",
       "</thead>\n",
       "<tbody>\n",
       "\t<tr><th scope=row>5</th><td>0</td><td>1</td><td>28</td><td>0</td><td>0</td><td>0</td><td>0</td><td>0</td><td>0</td><td>1</td><td>⋯</td><td>0</td><td>0</td><td>1</td><td>0</td><td>140</td><td>90</td><td>85</td><td>3000</td><td>1</td><td>0</td></tr>\n",
       "\t<tr><th scope=row>7</th><td>0</td><td>1</td><td>29</td><td>0</td><td>0</td><td>0</td><td>0</td><td>0</td><td>0</td><td>0</td><td>⋯</td><td>0</td><td>0</td><td>1</td><td>0</td><td>140</td><td>90</td><td>82</td><td>3500</td><td>1</td><td>0</td></tr>\n",
       "\t<tr><th scope=row>8</th><td>0</td><td>1</td><td>29</td><td>0</td><td>1</td><td>0</td><td>0</td><td>0</td><td>0</td><td>0</td><td>⋯</td><td>1</td><td>0</td><td>0</td><td>0</td><td>120</td><td>80</td><td>70</td><td>8000</td><td>0</td><td>1</td></tr>\n",
       "</tbody>\n",
       "</table>\n"
      ],
      "text/latex": [
       "A data.frame: 3 × 28\n",
       "\\begin{tabular}{r|lllllllllllllllllllll}\n",
       "  & GenderFemale & GenderMale & Age & OccupationAccountant & OccupationDoctor & OccupationEngineer & OccupationLawyer & OccupationManager & OccupationNurse & OccupationSales.Representative & ⋯ & BMI.CategoryNormal & BMI.CategoryNormal.Weight & BMI.CategoryObese & BMI.CategoryOverweight & Systolic & Diastolic & Heart.Rate & Daily.Steps & Sleep.Disorder.Binary.Yes & Sleep.Disorder.Binary.No\\\\\n",
       "  & <dbl> & <dbl> & <dbl> & <dbl> & <dbl> & <dbl> & <dbl> & <dbl> & <dbl> & <dbl> & ⋯ & <dbl> & <dbl> & <dbl> & <dbl> & <dbl> & <dbl> & <dbl> & <dbl> & <dbl> & <dbl>\\\\\n",
       "\\hline\n",
       "\t5 & 0 & 1 & 28 & 0 & 0 & 0 & 0 & 0 & 0 & 1 & ⋯ & 0 & 0 & 1 & 0 & 140 & 90 & 85 & 3000 & 1 & 0\\\\\n",
       "\t7 & 0 & 1 & 29 & 0 & 0 & 0 & 0 & 0 & 0 & 0 & ⋯ & 0 & 0 & 1 & 0 & 140 & 90 & 82 & 3500 & 1 & 0\\\\\n",
       "\t8 & 0 & 1 & 29 & 0 & 1 & 0 & 0 & 0 & 0 & 0 & ⋯ & 1 & 0 & 0 & 0 & 120 & 80 & 70 & 8000 & 0 & 1\\\\\n",
       "\\end{tabular}\n"
      ],
      "text/markdown": [
       "\n",
       "A data.frame: 3 × 28\n",
       "\n",
       "| <!--/--> | GenderFemale &lt;dbl&gt; | GenderMale &lt;dbl&gt; | Age &lt;dbl&gt; | OccupationAccountant &lt;dbl&gt; | OccupationDoctor &lt;dbl&gt; | OccupationEngineer &lt;dbl&gt; | OccupationLawyer &lt;dbl&gt; | OccupationManager &lt;dbl&gt; | OccupationNurse &lt;dbl&gt; | OccupationSales.Representative &lt;dbl&gt; | ⋯ ⋯ | BMI.CategoryNormal &lt;dbl&gt; | BMI.CategoryNormal.Weight &lt;dbl&gt; | BMI.CategoryObese &lt;dbl&gt; | BMI.CategoryOverweight &lt;dbl&gt; | Systolic &lt;dbl&gt; | Diastolic &lt;dbl&gt; | Heart.Rate &lt;dbl&gt; | Daily.Steps &lt;dbl&gt; | Sleep.Disorder.Binary.Yes &lt;dbl&gt; | Sleep.Disorder.Binary.No &lt;dbl&gt; |\n",
       "|---|---|---|---|---|---|---|---|---|---|---|---|---|---|---|---|---|---|---|---|---|---|\n",
       "| 5 | 0 | 1 | 28 | 0 | 0 | 0 | 0 | 0 | 0 | 1 | ⋯ | 0 | 0 | 1 | 0 | 140 | 90 | 85 | 3000 | 1 | 0 |\n",
       "| 7 | 0 | 1 | 29 | 0 | 0 | 0 | 0 | 0 | 0 | 0 | ⋯ | 0 | 0 | 1 | 0 | 140 | 90 | 82 | 3500 | 1 | 0 |\n",
       "| 8 | 0 | 1 | 29 | 0 | 1 | 0 | 0 | 0 | 0 | 0 | ⋯ | 1 | 0 | 0 | 0 | 120 | 80 | 70 | 8000 | 0 | 1 |\n",
       "\n"
      ],
      "text/plain": [
       "  GenderFemale GenderMale Age OccupationAccountant OccupationDoctor\n",
       "5 0            1          28  0                    0               \n",
       "7 0            1          29  0                    0               \n",
       "8 0            1          29  0                    1               \n",
       "  OccupationEngineer OccupationLawyer OccupationManager OccupationNurse\n",
       "5 0                  0                0                 0              \n",
       "7 0                  0                0                 0              \n",
       "8 0                  0                0                 0              \n",
       "  OccupationSales.Representative ⋯ BMI.CategoryNormal BMI.CategoryNormal.Weight\n",
       "5 1                              ⋯ 0                  0                        \n",
       "7 0                              ⋯ 0                  0                        \n",
       "8 0                              ⋯ 1                  0                        \n",
       "  BMI.CategoryObese BMI.CategoryOverweight Systolic Diastolic Heart.Rate\n",
       "5 1                 0                      140      90        85        \n",
       "7 1                 0                      140      90        82        \n",
       "8 0                 0                      120      80        70        \n",
       "  Daily.Steps Sleep.Disorder.Binary.Yes Sleep.Disorder.Binary.No\n",
       "5 3000        1                         0                       \n",
       "7 3500        1                         0                       \n",
       "8 8000        0                         1                       "
      ]
     },
     "metadata": {},
     "output_type": "display_data"
    }
   ],
   "source": [
    "# Create dummy variables for the 3 Categorical Predictors: Gender, Occupation, BMI.Category & the Target Variable: Sleep.Disorder\n",
    "\n",
    "# Training Set \n",
    "dummy <- dummyVars(\" ~ .\", data = train)\n",
    "trsf <- data.frame(predict(dummy, newdata = train))\n",
    "train <- trsf\n",
    "\n",
    "# Test Set\n",
    "dmy <- dummyVars(\" ~ .\", data = test)\n",
    "tran <- data.frame(predict(dmy, newdata = test))\n",
    "test <- tran\n",
    "\n",
    "# Training and test sets end up with different numbers of columns after creating dummy variables.\n",
    "# There are categorical variables that have unique values which are are not represented in both sets \n",
    "# The training set has three categories that do not appear in the test set. \n",
    "# 'OccupationManager', 'OccupationSales.Representative', 'BMI.CategoryObese'\n",
    "print(ncol(train) - ncol(test))\n",
    "\n",
    "# Find columns in train but not in test\n",
    "missing_cols <- setdiff(names(train), names(test))\n",
    "missing_cols\n",
    "\n",
    "# Add missing columns to test and fill in all rows with 0\n",
    "for (col in missing_cols){\n",
    "  test[[col]] <- 0\n",
    "}\n",
    "\n",
    "# Rearrange columns in test to match train\n",
    "test <- test[, names(train)]\n",
    "\n",
    "# Make sure there are equal columns\n",
    "print(ncol(train) - ncol(test))\n",
    "\n",
    "# Make sure they are in the same order\n",
    "head(train, n=3)\n",
    "head(test, n=3)"
   ]
  },
  {
   "cell_type": "code",
   "execution_count": 415,
   "id": "45e46e24",
   "metadata": {
    "vscode": {
     "languageId": "r"
    }
   },
   "outputs": [
    {
     "name": "stderr",
     "output_type": "stream",
     "text": [
      "Warning message in preProcess.default(test, method = c(\"center\", \"scale\")):\n",
      "\"These variables have zero variances: OccupationManager\"\n"
     ]
    }
   ],
   "source": [
    "# Preprocessing\n",
    "# Center and Scale the values in both Traing and Test sets to prepare for modeling. \n",
    "\n",
    "y_train <- train$Sleep.Disorder.Binary.Yes\n",
    "y_test <- test$Sleep.Disorder.Binary.Yes\n",
    "\n",
    "train <- train %>% select(-Sleep.Disorder.Binary.Yes)\n",
    "train <- train %>% select(-Sleep.Disorder.Binary.No)\n",
    "test <- test %>% select(-Sleep.Disorder.Binary.Yes)\n",
    "test <- test %>% select(-Sleep.Disorder.Binary.No)\n",
    "\n",
    "\n",
    "# Test\n",
    "preProcValues <- preProcess(train, method = c(\"center\", \"scale\"))\n",
    "X_train_tran <- predict(preProcValues, train)\n",
    "\n",
    "# Train\n",
    "preProcValues_test <- preProcess(test, method = c(\"center\", \"scale\"))\n",
    "X_test_tran <- predict(preProcValues_test, test)"
   ]
  },
  {
   "cell_type": "code",
   "execution_count": 416,
   "id": "e87890af",
   "metadata": {
    "vscode": {
     "languageId": "r"
    }
   },
   "outputs": [
    {
     "name": "stdout",
     "output_type": "stream",
     "text": [
      "                               GenderFemale GenderMale        Age\n",
      "GenderFemale                      1.0000000 -1.0000000  0.6090367\n",
      "GenderMale                       -1.0000000  1.0000000 -0.6090367\n",
      "Age                               0.6090367 -0.6090367  1.0000000\n",
      "OccupationAccountant              0.0000000  0.0000000  0.0000000\n",
      "OccupationDoctor                  0.0000000  0.0000000 -0.5846999\n",
      "OccupationEngineer                0.0000000  0.0000000  0.0000000\n",
      "OccupationLawyer                  0.0000000  0.0000000  0.0000000\n",
      "OccupationManager                 0.0000000  0.0000000  0.0000000\n",
      "OccupationNurse                   0.5045360 -0.5045360  0.5616019\n",
      "OccupationSales.Representative    0.0000000  0.0000000  0.0000000\n",
      "OccupationSalesperson             0.0000000  0.0000000  0.0000000\n",
      "OccupationScientist               0.0000000  0.0000000  0.0000000\n",
      "OccupationSoftware.Engineer       0.0000000  0.0000000  0.0000000\n",
      "OccupationTeacher                 0.0000000  0.0000000  0.0000000\n",
      "Sleep.Duration                    0.0000000  0.0000000  0.0000000\n",
      "Quality.of.Sleep                  0.0000000  0.0000000  0.0000000\n",
      "Physical.Activity.Level           0.0000000  0.0000000  0.0000000\n",
      "Stress.Level                      0.0000000  0.0000000  0.0000000\n",
      "BMI.CategoryNormal                0.0000000  0.0000000  0.0000000\n",
      "BMI.CategoryNormal.Weight         0.0000000  0.0000000  0.0000000\n",
      "BMI.CategoryObese                 0.0000000  0.0000000  0.0000000\n",
      "BMI.CategoryOverweight            0.0000000  0.0000000  0.5828167\n",
      "Systolic                          0.0000000  0.0000000  0.6262801\n",
      "Diastolic                         0.0000000  0.0000000  0.6147671\n",
      "Heart.Rate                        0.0000000  0.0000000  0.0000000\n",
      "Daily.Steps                       0.0000000  0.0000000  0.0000000\n",
      "                               OccupationAccountant OccupationDoctor\n",
      "GenderFemale                                      0        0.0000000\n",
      "GenderMale                                        0        0.0000000\n",
      "Age                                               0       -0.5846999\n",
      "OccupationAccountant                              1        0.0000000\n",
      "OccupationDoctor                                  0        1.0000000\n",
      "OccupationEngineer                                0        0.0000000\n",
      "OccupationLawyer                                  0        0.0000000\n",
      "OccupationManager                                 0        0.0000000\n",
      "OccupationNurse                                   0        0.0000000\n",
      "OccupationSales.Representative                    0        0.0000000\n",
      "OccupationSalesperson                             0        0.0000000\n",
      "OccupationScientist                               0        0.0000000\n",
      "OccupationSoftware.Engineer                       0        0.0000000\n",
      "OccupationTeacher                                 0        0.0000000\n",
      "Sleep.Duration                                    0        0.0000000\n",
      "Quality.of.Sleep                                  0        0.0000000\n",
      "Physical.Activity.Level                           0        0.0000000\n",
      "Stress.Level                                      0        0.0000000\n",
      "BMI.CategoryNormal                                0        0.0000000\n",
      "BMI.CategoryNormal.Weight                         0        0.0000000\n",
      "BMI.CategoryObese                                 0        0.0000000\n",
      "BMI.CategoryOverweight                            0        0.0000000\n",
      "Systolic                                          0        0.0000000\n",
      "Diastolic                                         0        0.0000000\n",
      "Heart.Rate                                        0        0.0000000\n",
      "Daily.Steps                                       0        0.0000000\n",
      "                               OccupationEngineer OccupationLawyer\n",
      "GenderFemale                                    0                0\n",
      "GenderMale                                      0                0\n",
      "Age                                             0                0\n",
      "OccupationAccountant                            0                0\n",
      "OccupationDoctor                                0                0\n",
      "OccupationEngineer                              1                0\n",
      "OccupationLawyer                                0                1\n",
      "OccupationManager                               0                0\n",
      "OccupationNurse                                 0                0\n",
      "OccupationSales.Representative                  0                0\n",
      "OccupationSalesperson                           0                0\n",
      "OccupationScientist                             0                0\n",
      "OccupationSoftware.Engineer                     0                0\n",
      "OccupationTeacher                               0                0\n",
      "Sleep.Duration                                  0                0\n",
      "Quality.of.Sleep                                0                0\n",
      "Physical.Activity.Level                         0                0\n",
      "Stress.Level                                    0                0\n",
      "BMI.CategoryNormal                              0                0\n",
      "BMI.CategoryNormal.Weight                       0                0\n",
      "BMI.CategoryObese                               0                0\n",
      "BMI.CategoryOverweight                          0                0\n",
      "Systolic                                        0                0\n",
      "Diastolic                                       0                0\n",
      "Heart.Rate                                      0                0\n",
      "Daily.Steps                                     0                0\n",
      "                               OccupationManager OccupationNurse\n",
      "GenderFemale                                   0       0.5045360\n",
      "GenderMale                                     0      -0.5045360\n",
      "Age                                            0       0.5616019\n",
      "OccupationAccountant                           0       0.0000000\n",
      "OccupationDoctor                               0       0.0000000\n",
      "OccupationEngineer                             0       0.0000000\n",
      "OccupationLawyer                               0       0.0000000\n",
      "OccupationManager                              1       0.0000000\n",
      "OccupationNurse                                0       1.0000000\n",
      "OccupationSales.Representative                 0       0.0000000\n",
      "OccupationSalesperson                          0       0.0000000\n",
      "OccupationScientist                            0       0.0000000\n",
      "OccupationSoftware.Engineer                    0       0.0000000\n",
      "OccupationTeacher                              0       0.0000000\n",
      "Sleep.Duration                                 0       0.0000000\n",
      "Quality.of.Sleep                               0       0.0000000\n",
      "Physical.Activity.Level                        0       0.0000000\n",
      "Stress.Level                                   0       0.0000000\n",
      "BMI.CategoryNormal                             0      -0.5486067\n",
      "BMI.CategoryNormal.Weight                      0       0.0000000\n",
      "BMI.CategoryObese                              0       0.0000000\n",
      "BMI.CategoryOverweight                         0       0.5259759\n",
      "Systolic                                       0       0.6754531\n",
      "Diastolic                                      0       0.7613599\n",
      "Heart.Rate                                     0       0.0000000\n",
      "Daily.Steps                                    0       0.0000000\n",
      "                               OccupationSales.Representative\n",
      "GenderFemale                                                0\n",
      "GenderMale                                                  0\n",
      "Age                                                         0\n",
      "OccupationAccountant                                        0\n",
      "OccupationDoctor                                            0\n",
      "OccupationEngineer                                          0\n",
      "OccupationLawyer                                            0\n",
      "OccupationManager                                           0\n",
      "OccupationNurse                                             0\n",
      "OccupationSales.Representative                              1\n",
      "OccupationSalesperson                                       0\n",
      "OccupationScientist                                         0\n",
      "OccupationSoftware.Engineer                                 0\n",
      "OccupationTeacher                                           0\n",
      "Sleep.Duration                                              0\n",
      "Quality.of.Sleep                                            0\n",
      "Physical.Activity.Level                                     0\n",
      "Stress.Level                                                0\n",
      "BMI.CategoryNormal                                          0\n",
      "BMI.CategoryNormal.Weight                                   0\n",
      "BMI.CategoryObese                                           0\n",
      "BMI.CategoryOverweight                                      0\n",
      "Systolic                                                    0\n",
      "Diastolic                                                   0\n",
      "Heart.Rate                                                  0\n",
      "Daily.Steps                                                 0\n",
      "                               OccupationSalesperson OccupationScientist\n",
      "GenderFemale                                       0                   0\n",
      "GenderMale                                         0                   0\n",
      "Age                                                0                   0\n",
      "OccupationAccountant                               0                   0\n",
      "OccupationDoctor                                   0                   0\n",
      "OccupationEngineer                                 0                   0\n",
      "OccupationLawyer                                   0                   0\n",
      "OccupationManager                                  0                   0\n",
      "OccupationNurse                                    0                   0\n",
      "OccupationSales.Representative                     0                   0\n",
      "OccupationSalesperson                              1                   0\n",
      "OccupationScientist                                0                   1\n",
      "OccupationSoftware.Engineer                        0                   0\n",
      "OccupationTeacher                                  0                   0\n",
      "Sleep.Duration                                     0                   0\n",
      "Quality.of.Sleep                                   0                   0\n",
      "Physical.Activity.Level                            0                   0\n",
      "Stress.Level                                       0                   0\n",
      "BMI.CategoryNormal                                 0                   0\n",
      "BMI.CategoryNormal.Weight                          0                   0\n",
      "BMI.CategoryObese                                  0                   0\n",
      "BMI.CategoryOverweight                             0                   0\n",
      "Systolic                                           0                   0\n",
      "Diastolic                                          0                   0\n",
      "Heart.Rate                                         0                   0\n",
      "Daily.Steps                                        0                   0\n",
      "                               OccupationSoftware.Engineer OccupationTeacher\n",
      "GenderFemale                                             0                 0\n",
      "GenderMale                                               0                 0\n",
      "Age                                                      0                 0\n",
      "OccupationAccountant                                     0                 0\n",
      "OccupationDoctor                                         0                 0\n",
      "OccupationEngineer                                       0                 0\n",
      "OccupationLawyer                                         0                 0\n",
      "OccupationManager                                        0                 0\n",
      "OccupationNurse                                          0                 0\n",
      "OccupationSales.Representative                           0                 0\n",
      "OccupationSalesperson                                    0                 0\n",
      "OccupationScientist                                      0                 0\n",
      "OccupationSoftware.Engineer                              1                 0\n",
      "OccupationTeacher                                        0                 1\n",
      "Sleep.Duration                                           0                 0\n",
      "Quality.of.Sleep                                         0                 0\n",
      "Physical.Activity.Level                                  0                 0\n",
      "Stress.Level                                             0                 0\n",
      "BMI.CategoryNormal                                       0                 0\n",
      "BMI.CategoryNormal.Weight                                0                 0\n",
      "BMI.CategoryObese                                        0                 0\n",
      "BMI.CategoryOverweight                                   0                 0\n",
      "Systolic                                                 0                 0\n",
      "Diastolic                                                0                 0\n",
      "Heart.Rate                                               0                 0\n",
      "Daily.Steps                                              0                 0\n",
      "                               Sleep.Duration Quality.of.Sleep\n",
      "GenderFemale                        0.0000000        0.0000000\n",
      "GenderMale                          0.0000000        0.0000000\n",
      "Age                                 0.0000000        0.0000000\n",
      "OccupationAccountant                0.0000000        0.0000000\n",
      "OccupationDoctor                    0.0000000        0.0000000\n",
      "OccupationEngineer                  0.0000000        0.0000000\n",
      "OccupationLawyer                    0.0000000        0.0000000\n",
      "OccupationManager                   0.0000000        0.0000000\n",
      "OccupationNurse                     0.0000000        0.0000000\n",
      "OccupationSales.Representative      0.0000000        0.0000000\n",
      "OccupationSalesperson               0.0000000        0.0000000\n",
      "OccupationScientist                 0.0000000        0.0000000\n",
      "OccupationSoftware.Engineer         0.0000000        0.0000000\n",
      "OccupationTeacher                   0.0000000        0.0000000\n",
      "Sleep.Duration                      1.0000000        0.8826658\n",
      "Quality.of.Sleep                    0.8826658        1.0000000\n",
      "Physical.Activity.Level             0.0000000        0.0000000\n",
      "Stress.Level                       -0.8163366       -0.9071667\n",
      "BMI.CategoryNormal                  0.0000000        0.0000000\n",
      "BMI.CategoryNormal.Weight           0.0000000        0.0000000\n",
      "BMI.CategoryObese                   0.0000000        0.0000000\n",
      "BMI.CategoryOverweight              0.0000000        0.0000000\n",
      "Systolic                            0.0000000        0.0000000\n",
      "Diastolic                           0.0000000        0.0000000\n",
      "Heart.Rate                         -0.5681596       -0.7183501\n",
      "Daily.Steps                         0.0000000        0.0000000\n",
      "                               Physical.Activity.Level Stress.Level\n",
      "GenderFemale                                 0.0000000    0.0000000\n",
      "GenderMale                                   0.0000000    0.0000000\n",
      "Age                                          0.0000000    0.0000000\n",
      "OccupationAccountant                         0.0000000    0.0000000\n",
      "OccupationDoctor                             0.0000000    0.0000000\n",
      "OccupationEngineer                           0.0000000    0.0000000\n",
      "OccupationLawyer                             0.0000000    0.0000000\n",
      "OccupationManager                            0.0000000    0.0000000\n",
      "OccupationNurse                              0.0000000    0.0000000\n",
      "OccupationSales.Representative               0.0000000    0.0000000\n",
      "OccupationSalesperson                        0.0000000    0.0000000\n",
      "OccupationScientist                          0.0000000    0.0000000\n",
      "OccupationSoftware.Engineer                  0.0000000    0.0000000\n",
      "OccupationTeacher                            0.0000000    0.0000000\n",
      "Sleep.Duration                               0.0000000   -0.8163366\n",
      "Quality.of.Sleep                             0.0000000   -0.9071667\n",
      "Physical.Activity.Level                      1.0000000    0.0000000\n",
      "Stress.Level                                 0.0000000    1.0000000\n",
      "BMI.CategoryNormal                           0.0000000    0.0000000\n",
      "BMI.CategoryNormal.Weight                    0.0000000    0.0000000\n",
      "BMI.CategoryObese                            0.0000000    0.0000000\n",
      "BMI.CategoryOverweight                       0.0000000    0.0000000\n",
      "Systolic                                     0.0000000    0.0000000\n",
      "Diastolic                                    0.0000000    0.0000000\n",
      "Heart.Rate                                   0.0000000    0.7265270\n",
      "Daily.Steps                                  0.7925871    0.0000000\n",
      "                               BMI.CategoryNormal BMI.CategoryNormal.Weight\n",
      "GenderFemale                            0.0000000                         0\n",
      "GenderMale                              0.0000000                         0\n",
      "Age                                     0.0000000                         0\n",
      "OccupationAccountant                    0.0000000                         0\n",
      "OccupationDoctor                        0.0000000                         0\n",
      "OccupationEngineer                      0.0000000                         0\n",
      "OccupationLawyer                        0.0000000                         0\n",
      "OccupationManager                       0.0000000                         0\n",
      "OccupationNurse                        -0.5486067                         0\n",
      "OccupationSales.Representative          0.0000000                         0\n",
      "OccupationSalesperson                   0.0000000                         0\n",
      "OccupationScientist                     0.0000000                         0\n",
      "OccupationSoftware.Engineer             0.0000000                         0\n",
      "OccupationTeacher                       0.0000000                         0\n",
      "Sleep.Duration                          0.0000000                         0\n",
      "Quality.of.Sleep                        0.0000000                         0\n",
      "Physical.Activity.Level                 0.0000000                         0\n",
      "Stress.Level                            0.0000000                         0\n",
      "BMI.CategoryNormal                      1.0000000                         0\n",
      "BMI.CategoryNormal.Weight               0.0000000                         1\n",
      "BMI.CategoryObese                       0.0000000                         0\n",
      "BMI.CategoryOverweight                 -0.8559927                         0\n",
      "Systolic                               -0.6571477                         0\n",
      "Diastolic                              -0.6953396                         0\n",
      "Heart.Rate                              0.0000000                         0\n",
      "Daily.Steps                             0.0000000                         0\n",
      "                               BMI.CategoryObese BMI.CategoryOverweight\n",
      "GenderFemale                           0.0000000              0.0000000\n",
      "GenderMale                             0.0000000              0.0000000\n",
      "Age                                    0.0000000              0.5828167\n",
      "OccupationAccountant                   0.0000000              0.0000000\n",
      "OccupationDoctor                       0.0000000              0.0000000\n",
      "OccupationEngineer                     0.0000000              0.0000000\n",
      "OccupationLawyer                       0.0000000              0.0000000\n",
      "OccupationManager                      0.0000000              0.0000000\n",
      "OccupationNurse                        0.0000000              0.5259759\n",
      "OccupationSales.Representative         0.0000000              0.0000000\n",
      "OccupationSalesperson                  0.0000000              0.0000000\n",
      "OccupationScientist                    0.0000000              0.0000000\n",
      "OccupationSoftware.Engineer            0.0000000              0.0000000\n",
      "OccupationTeacher                      0.0000000              0.0000000\n",
      "Sleep.Duration                         0.0000000              0.0000000\n",
      "Quality.of.Sleep                       0.0000000              0.0000000\n",
      "Physical.Activity.Level                0.0000000              0.0000000\n",
      "Stress.Level                           0.0000000              0.0000000\n",
      "BMI.CategoryNormal                     0.0000000             -0.8559927\n",
      "BMI.CategoryNormal.Weight              0.0000000              0.0000000\n",
      "BMI.CategoryObese                      1.0000000              0.0000000\n",
      "BMI.CategoryOverweight                 0.0000000              1.0000000\n",
      "Systolic                               0.0000000              0.7087007\n",
      "Diastolic                              0.0000000              0.7509369\n",
      "Heart.Rate                             0.5146466              0.0000000\n",
      "Daily.Steps                            0.0000000              0.0000000\n",
      "                                 Systolic  Diastolic Heart.Rate Daily.Steps\n",
      "GenderFemale                    0.0000000  0.0000000  0.0000000   0.0000000\n",
      "GenderMale                      0.0000000  0.0000000  0.0000000   0.0000000\n",
      "Age                             0.6262801  0.6147671  0.0000000   0.0000000\n",
      "OccupationAccountant            0.0000000  0.0000000  0.0000000   0.0000000\n",
      "OccupationDoctor                0.0000000  0.0000000  0.0000000   0.0000000\n",
      "OccupationEngineer              0.0000000  0.0000000  0.0000000   0.0000000\n",
      "OccupationLawyer                0.0000000  0.0000000  0.0000000   0.0000000\n",
      "OccupationManager               0.0000000  0.0000000  0.0000000   0.0000000\n",
      "OccupationNurse                 0.6754531  0.7613599  0.0000000   0.0000000\n",
      "OccupationSales.Representative  0.0000000  0.0000000  0.0000000   0.0000000\n",
      "OccupationSalesperson           0.0000000  0.0000000  0.0000000   0.0000000\n",
      "OccupationScientist             0.0000000  0.0000000  0.0000000   0.0000000\n",
      "OccupationSoftware.Engineer     0.0000000  0.0000000  0.0000000   0.0000000\n",
      "OccupationTeacher               0.0000000  0.0000000  0.0000000   0.0000000\n",
      "Sleep.Duration                  0.0000000  0.0000000 -0.5681596   0.0000000\n",
      "Quality.of.Sleep                0.0000000  0.0000000 -0.7183501   0.0000000\n",
      "Physical.Activity.Level         0.0000000  0.0000000  0.0000000   0.7925871\n",
      "Stress.Level                    0.0000000  0.0000000  0.7265270   0.0000000\n",
      "BMI.CategoryNormal             -0.6571477 -0.6953396  0.0000000   0.0000000\n",
      "BMI.CategoryNormal.Weight       0.0000000  0.0000000  0.0000000   0.0000000\n",
      "BMI.CategoryObese               0.0000000  0.0000000  0.5146466   0.0000000\n",
      "BMI.CategoryOverweight          0.7087007  0.7509369  0.0000000   0.0000000\n",
      "Systolic                        1.0000000  0.9735933  0.0000000   0.0000000\n",
      "Diastolic                       0.9735933  1.0000000  0.0000000   0.0000000\n",
      "Heart.Rate                      0.0000000  0.0000000  1.0000000   0.0000000\n",
      "Daily.Steps                     0.0000000  0.0000000  0.0000000   1.0000000\n"
     ]
    }
   ],
   "source": [
    "# Check for Multicollinearity\n",
    "\n",
    "# Correlation matrix\n",
    "correlation_matrix <- cor(X_train_tran)\n",
    "#print(correlation_matrix)\n",
    "\n",
    "# Correlation matrix with Threshold\n",
    "threshold <- 0.5 \n",
    "correlation_matrix_threshold <- correlation_matrix\n",
    "correlation_matrix_threshold[abs(correlation_matrix) < threshold] <- 0\n",
    "#print(correlation_matrix_threshold)\n",
    "\n",
    "# Based on the correlation matrix it is possible that sleep duration and sleep quality are going to potentially give problems. \n",
    "# Intutively they are basically the same, sleep quality should go up as sleep duration also goes up. \n",
    "# More sleep is good."
   ]
  },
  {
   "cell_type": "code",
   "execution_count": 417,
   "id": "20eec689",
   "metadata": {
    "vscode": {
     "languageId": "r"
    }
   },
   "outputs": [
    {
     "name": "stdout",
     "output_type": "stream",
     "text": [
      "[1] \"Zero Varience Training Predicitors:\"\n",
      "[1] \"OccupationManager\"              \"OccupationSales.Representative\"\n",
      "[3] \"OccupationScientist\"            \"OccupationSoftware.Engineer\"   \n",
      "[5] \"BMI.CategoryObese\"             \n"
     ]
    }
   ],
   "source": [
    "# Feature Reduction\n",
    "# Remove Near-zero Variance Predicors\n",
    "\n",
    "# Find all Zero Varience Predicitors in the Training Set \n",
    "zero_var_indices <- nearZeroVar(X_train_tran)\n",
    "zv <- names(X_train_tran)[zero_var_indices]\n",
    "print(\"Zero Varience Training Predicitors:\")\n",
    "print(zv)\n",
    "\n",
    "# Remove these Predictors from Training and Testing\n",
    "# Remove the same zero-varience predictors in the test set from both the testing and training sets\n",
    "# (5)Features total\n",
    "X_train <- X_train_tran[,-zero_var_indices]\n",
    "X_test <- X_test_tran[,-zero_var_indices]"
   ]
  },
  {
   "cell_type": "code",
   "execution_count": 418,
   "id": "c03dd6c0",
   "metadata": {
    "vscode": {
     "languageId": "r"
    }
   },
   "outputs": [
    {
     "data": {
      "text/html": [
       "<table class=\"dataframe\">\n",
       "<caption>A data.frame: 6 × 22</caption>\n",
       "<thead>\n",
       "\t<tr><th></th><th scope=col>GenderFemale</th><th scope=col>GenderMale</th><th scope=col>Age</th><th scope=col>OccupationAccountant</th><th scope=col>OccupationDoctor</th><th scope=col>OccupationEngineer</th><th scope=col>OccupationLawyer</th><th scope=col>OccupationNurse</th><th scope=col>OccupationSalesperson</th><th scope=col>OccupationTeacher</th><th scope=col>⋯</th><th scope=col>Physical.Activity.Level</th><th scope=col>Stress.Level</th><th scope=col>BMI.CategoryNormal</th><th scope=col>BMI.CategoryNormal.Weight</th><th scope=col>BMI.CategoryOverweight</th><th scope=col>Systolic</th><th scope=col>Diastolic</th><th scope=col>Heart.Rate</th><th scope=col>Daily.Steps</th><th scope=col>y_train</th></tr>\n",
       "\t<tr><th></th><th scope=col>&lt;dbl&gt;</th><th scope=col>&lt;dbl&gt;</th><th scope=col>&lt;dbl&gt;</th><th scope=col>&lt;dbl&gt;</th><th scope=col>&lt;dbl&gt;</th><th scope=col>&lt;dbl&gt;</th><th scope=col>&lt;dbl&gt;</th><th scope=col>&lt;dbl&gt;</th><th scope=col>&lt;dbl&gt;</th><th scope=col>&lt;dbl&gt;</th><th scope=col>⋯</th><th scope=col>&lt;dbl&gt;</th><th scope=col>&lt;dbl&gt;</th><th scope=col>&lt;dbl&gt;</th><th scope=col>&lt;dbl&gt;</th><th scope=col>&lt;dbl&gt;</th><th scope=col>&lt;dbl&gt;</th><th scope=col>&lt;dbl&gt;</th><th scope=col>&lt;dbl&gt;</th><th scope=col>&lt;dbl&gt;</th><th scope=col>&lt;dbl&gt;</th></tr>\n",
       "</thead>\n",
       "<tbody>\n",
       "\t<tr><th scope=row>1</th><td>-1.017256</td><td>1.017256</td><td>-1.712810</td><td>-0.364846</td><td>-0.4954881</td><td>-0.4227176</td><td>-0.3780644</td><td>-0.5132423</td><td>-0.3089805</td><td>-0.3015613</td><td>⋯</td><td>-0.83993421</td><td>0.3192027</td><td>-1.0648397</td><td>-0.2454667</td><td> 1.2439822</td><td>-0.3134859</td><td>-0.2572681</td><td> 1.81189206</td><td>-1.6611328</td><td>0</td></tr>\n",
       "\t<tr><th scope=row>2</th><td>-1.017256</td><td>1.017256</td><td>-1.600614</td><td>-0.364846</td><td> 2.0105382</td><td>-0.4227176</td><td>-0.3780644</td><td>-0.5132423</td><td>-0.3089805</td><td>-0.3015613</td><td>⋯</td><td> 0.02862161</td><td>1.4385400</td><td> 0.9355377</td><td>-0.2454667</td><td>-0.8008135</td><td>-0.4413104</td><td>-0.7360052</td><td> 1.29024169</td><td> 1.9690850</td><td>0</td></tr>\n",
       "\t<tr><th scope=row>3</th><td>-1.017256</td><td>1.017256</td><td>-1.600614</td><td>-0.364846</td><td> 2.0105382</td><td>-0.4227176</td><td>-0.3780644</td><td>-0.5132423</td><td>-0.3089805</td><td>-0.3015613</td><td>⋯</td><td> 0.02862161</td><td>1.4385400</td><td> 0.9355377</td><td>-0.2454667</td><td>-0.8008135</td><td>-0.4413104</td><td>-0.7360052</td><td> 1.29024169</td><td> 1.9690850</td><td>0</td></tr>\n",
       "\t<tr><th scope=row>4</th><td>-1.017256</td><td>1.017256</td><td>-1.600614</td><td>-0.364846</td><td>-0.4954881</td><td>-0.4227176</td><td>-0.3780644</td><td>-0.5132423</td><td>-0.3089805</td><td>-0.3015613</td><td>⋯</td><td>-1.41897143</td><td>1.4385400</td><td>-1.0648397</td><td>-0.2454667</td><td>-0.8008135</td><td> 1.4760569</td><td> 0.8597852</td><td> 3.89849353</td><td>-2.4122124</td><td>1</td></tr>\n",
       "\t<tr><th scope=row>6</th><td>-1.017256</td><td>1.017256</td><td>-1.600614</td><td>-0.364846</td><td>-0.4954881</td><td>-0.4227176</td><td>-0.3780644</td><td>-0.5132423</td><td>-0.3089805</td><td>-0.3015613</td><td>⋯</td><td>-1.41897143</td><td>1.4385400</td><td>-1.0648397</td><td>-0.2454667</td><td>-0.8008135</td><td> 1.4760569</td><td> 0.8597852</td><td> 3.89849353</td><td>-2.4122124</td><td>1</td></tr>\n",
       "\t<tr><th scope=row>9</th><td>-1.017256</td><td>1.017256</td><td>-1.488417</td><td>-0.364846</td><td> 2.0105382</td><td>-0.4227176</td><td>-0.3780644</td><td>-0.5132423</td><td>-0.3089805</td><td>-0.3015613</td><td>⋯</td><td> 0.75241813</td><td>0.3192027</td><td> 0.9355377</td><td>-0.2454667</td><td>-0.8008135</td><td>-1.0804328</td><td>-0.7360052</td><td>-0.01388423</td><td> 0.7172857</td><td>0</td></tr>\n",
       "</tbody>\n",
       "</table>\n"
      ],
      "text/latex": [
       "A data.frame: 6 × 22\n",
       "\\begin{tabular}{r|lllllllllllllllllllll}\n",
       "  & GenderFemale & GenderMale & Age & OccupationAccountant & OccupationDoctor & OccupationEngineer & OccupationLawyer & OccupationNurse & OccupationSalesperson & OccupationTeacher & ⋯ & Physical.Activity.Level & Stress.Level & BMI.CategoryNormal & BMI.CategoryNormal.Weight & BMI.CategoryOverweight & Systolic & Diastolic & Heart.Rate & Daily.Steps & y\\_train\\\\\n",
       "  & <dbl> & <dbl> & <dbl> & <dbl> & <dbl> & <dbl> & <dbl> & <dbl> & <dbl> & <dbl> & ⋯ & <dbl> & <dbl> & <dbl> & <dbl> & <dbl> & <dbl> & <dbl> & <dbl> & <dbl> & <dbl>\\\\\n",
       "\\hline\n",
       "\t1 & -1.017256 & 1.017256 & -1.712810 & -0.364846 & -0.4954881 & -0.4227176 & -0.3780644 & -0.5132423 & -0.3089805 & -0.3015613 & ⋯ & -0.83993421 & 0.3192027 & -1.0648397 & -0.2454667 &  1.2439822 & -0.3134859 & -0.2572681 &  1.81189206 & -1.6611328 & 0\\\\\n",
       "\t2 & -1.017256 & 1.017256 & -1.600614 & -0.364846 &  2.0105382 & -0.4227176 & -0.3780644 & -0.5132423 & -0.3089805 & -0.3015613 & ⋯ &  0.02862161 & 1.4385400 &  0.9355377 & -0.2454667 & -0.8008135 & -0.4413104 & -0.7360052 &  1.29024169 &  1.9690850 & 0\\\\\n",
       "\t3 & -1.017256 & 1.017256 & -1.600614 & -0.364846 &  2.0105382 & -0.4227176 & -0.3780644 & -0.5132423 & -0.3089805 & -0.3015613 & ⋯ &  0.02862161 & 1.4385400 &  0.9355377 & -0.2454667 & -0.8008135 & -0.4413104 & -0.7360052 &  1.29024169 &  1.9690850 & 0\\\\\n",
       "\t4 & -1.017256 & 1.017256 & -1.600614 & -0.364846 & -0.4954881 & -0.4227176 & -0.3780644 & -0.5132423 & -0.3089805 & -0.3015613 & ⋯ & -1.41897143 & 1.4385400 & -1.0648397 & -0.2454667 & -0.8008135 &  1.4760569 &  0.8597852 &  3.89849353 & -2.4122124 & 1\\\\\n",
       "\t6 & -1.017256 & 1.017256 & -1.600614 & -0.364846 & -0.4954881 & -0.4227176 & -0.3780644 & -0.5132423 & -0.3089805 & -0.3015613 & ⋯ & -1.41897143 & 1.4385400 & -1.0648397 & -0.2454667 & -0.8008135 &  1.4760569 &  0.8597852 &  3.89849353 & -2.4122124 & 1\\\\\n",
       "\t9 & -1.017256 & 1.017256 & -1.488417 & -0.364846 &  2.0105382 & -0.4227176 & -0.3780644 & -0.5132423 & -0.3089805 & -0.3015613 & ⋯ &  0.75241813 & 0.3192027 &  0.9355377 & -0.2454667 & -0.8008135 & -1.0804328 & -0.7360052 & -0.01388423 &  0.7172857 & 0\\\\\n",
       "\\end{tabular}\n"
      ],
      "text/markdown": [
       "\n",
       "A data.frame: 6 × 22\n",
       "\n",
       "| <!--/--> | GenderFemale &lt;dbl&gt; | GenderMale &lt;dbl&gt; | Age &lt;dbl&gt; | OccupationAccountant &lt;dbl&gt; | OccupationDoctor &lt;dbl&gt; | OccupationEngineer &lt;dbl&gt; | OccupationLawyer &lt;dbl&gt; | OccupationNurse &lt;dbl&gt; | OccupationSalesperson &lt;dbl&gt; | OccupationTeacher &lt;dbl&gt; | ⋯ ⋯ | Physical.Activity.Level &lt;dbl&gt; | Stress.Level &lt;dbl&gt; | BMI.CategoryNormal &lt;dbl&gt; | BMI.CategoryNormal.Weight &lt;dbl&gt; | BMI.CategoryOverweight &lt;dbl&gt; | Systolic &lt;dbl&gt; | Diastolic &lt;dbl&gt; | Heart.Rate &lt;dbl&gt; | Daily.Steps &lt;dbl&gt; | y_train &lt;dbl&gt; |\n",
       "|---|---|---|---|---|---|---|---|---|---|---|---|---|---|---|---|---|---|---|---|---|---|\n",
       "| 1 | -1.017256 | 1.017256 | -1.712810 | -0.364846 | -0.4954881 | -0.4227176 | -0.3780644 | -0.5132423 | -0.3089805 | -0.3015613 | ⋯ | -0.83993421 | 0.3192027 | -1.0648397 | -0.2454667 |  1.2439822 | -0.3134859 | -0.2572681 |  1.81189206 | -1.6611328 | 0 |\n",
       "| 2 | -1.017256 | 1.017256 | -1.600614 | -0.364846 |  2.0105382 | -0.4227176 | -0.3780644 | -0.5132423 | -0.3089805 | -0.3015613 | ⋯ |  0.02862161 | 1.4385400 |  0.9355377 | -0.2454667 | -0.8008135 | -0.4413104 | -0.7360052 |  1.29024169 |  1.9690850 | 0 |\n",
       "| 3 | -1.017256 | 1.017256 | -1.600614 | -0.364846 |  2.0105382 | -0.4227176 | -0.3780644 | -0.5132423 | -0.3089805 | -0.3015613 | ⋯ |  0.02862161 | 1.4385400 |  0.9355377 | -0.2454667 | -0.8008135 | -0.4413104 | -0.7360052 |  1.29024169 |  1.9690850 | 0 |\n",
       "| 4 | -1.017256 | 1.017256 | -1.600614 | -0.364846 | -0.4954881 | -0.4227176 | -0.3780644 | -0.5132423 | -0.3089805 | -0.3015613 | ⋯ | -1.41897143 | 1.4385400 | -1.0648397 | -0.2454667 | -0.8008135 |  1.4760569 |  0.8597852 |  3.89849353 | -2.4122124 | 1 |\n",
       "| 6 | -1.017256 | 1.017256 | -1.600614 | -0.364846 | -0.4954881 | -0.4227176 | -0.3780644 | -0.5132423 | -0.3089805 | -0.3015613 | ⋯ | -1.41897143 | 1.4385400 | -1.0648397 | -0.2454667 | -0.8008135 |  1.4760569 |  0.8597852 |  3.89849353 | -2.4122124 | 1 |\n",
       "| 9 | -1.017256 | 1.017256 | -1.488417 | -0.364846 |  2.0105382 | -0.4227176 | -0.3780644 | -0.5132423 | -0.3089805 | -0.3015613 | ⋯ |  0.75241813 | 0.3192027 |  0.9355377 | -0.2454667 | -0.8008135 | -1.0804328 | -0.7360052 | -0.01388423 |  0.7172857 | 0 |\n",
       "\n"
      ],
      "text/plain": [
       "  GenderFemale GenderMale Age       OccupationAccountant OccupationDoctor\n",
       "1 -1.017256    1.017256   -1.712810 -0.364846            -0.4954881      \n",
       "2 -1.017256    1.017256   -1.600614 -0.364846             2.0105382      \n",
       "3 -1.017256    1.017256   -1.600614 -0.364846             2.0105382      \n",
       "4 -1.017256    1.017256   -1.600614 -0.364846            -0.4954881      \n",
       "6 -1.017256    1.017256   -1.600614 -0.364846            -0.4954881      \n",
       "9 -1.017256    1.017256   -1.488417 -0.364846             2.0105382      \n",
       "  OccupationEngineer OccupationLawyer OccupationNurse OccupationSalesperson\n",
       "1 -0.4227176         -0.3780644       -0.5132423      -0.3089805           \n",
       "2 -0.4227176         -0.3780644       -0.5132423      -0.3089805           \n",
       "3 -0.4227176         -0.3780644       -0.5132423      -0.3089805           \n",
       "4 -0.4227176         -0.3780644       -0.5132423      -0.3089805           \n",
       "6 -0.4227176         -0.3780644       -0.5132423      -0.3089805           \n",
       "9 -0.4227176         -0.3780644       -0.5132423      -0.3089805           \n",
       "  OccupationTeacher ⋯ Physical.Activity.Level Stress.Level BMI.CategoryNormal\n",
       "1 -0.3015613        ⋯ -0.83993421             0.3192027    -1.0648397        \n",
       "2 -0.3015613        ⋯  0.02862161             1.4385400     0.9355377        \n",
       "3 -0.3015613        ⋯  0.02862161             1.4385400     0.9355377        \n",
       "4 -0.3015613        ⋯ -1.41897143             1.4385400    -1.0648397        \n",
       "6 -0.3015613        ⋯ -1.41897143             1.4385400    -1.0648397        \n",
       "9 -0.3015613        ⋯  0.75241813             0.3192027     0.9355377        \n",
       "  BMI.CategoryNormal.Weight BMI.CategoryOverweight Systolic   Diastolic \n",
       "1 -0.2454667                 1.2439822             -0.3134859 -0.2572681\n",
       "2 -0.2454667                -0.8008135             -0.4413104 -0.7360052\n",
       "3 -0.2454667                -0.8008135             -0.4413104 -0.7360052\n",
       "4 -0.2454667                -0.8008135              1.4760569  0.8597852\n",
       "6 -0.2454667                -0.8008135              1.4760569  0.8597852\n",
       "9 -0.2454667                -0.8008135             -1.0804328 -0.7360052\n",
       "  Heart.Rate  Daily.Steps y_train\n",
       "1  1.81189206 -1.6611328  0      \n",
       "2  1.29024169  1.9690850  0      \n",
       "3  1.29024169  1.9690850  0      \n",
       "4  3.89849353 -2.4122124  1      \n",
       "6  3.89849353 -2.4122124  1      \n",
       "9 -0.01388423  0.7172857  0      "
      ]
     },
     "metadata": {},
     "output_type": "display_data"
    },
    {
     "data": {
      "text/html": [
       "<table class=\"dataframe\">\n",
       "<caption>A data.frame: 6 × 22</caption>\n",
       "<thead>\n",
       "\t<tr><th></th><th scope=col>GenderFemale</th><th scope=col>GenderMale</th><th scope=col>Age</th><th scope=col>OccupationAccountant</th><th scope=col>OccupationDoctor</th><th scope=col>OccupationEngineer</th><th scope=col>OccupationLawyer</th><th scope=col>OccupationNurse</th><th scope=col>OccupationSalesperson</th><th scope=col>OccupationTeacher</th><th scope=col>⋯</th><th scope=col>Physical.Activity.Level</th><th scope=col>Stress.Level</th><th scope=col>BMI.CategoryNormal</th><th scope=col>BMI.CategoryNormal.Weight</th><th scope=col>BMI.CategoryOverweight</th><th scope=col>Systolic</th><th scope=col>Diastolic</th><th scope=col>Heart.Rate</th><th scope=col>Daily.Steps</th><th scope=col>y_test</th></tr>\n",
       "\t<tr><th></th><th scope=col>&lt;dbl&gt;</th><th scope=col>&lt;dbl&gt;</th><th scope=col>&lt;dbl&gt;</th><th scope=col>&lt;dbl&gt;</th><th scope=col>&lt;dbl&gt;</th><th scope=col>&lt;dbl&gt;</th><th scope=col>&lt;dbl&gt;</th><th scope=col>&lt;dbl&gt;</th><th scope=col>&lt;dbl&gt;</th><th scope=col>&lt;dbl&gt;</th><th scope=col>⋯</th><th scope=col>&lt;dbl&gt;</th><th scope=col>&lt;dbl&gt;</th><th scope=col>&lt;dbl&gt;</th><th scope=col>&lt;dbl&gt;</th><th scope=col>&lt;dbl&gt;</th><th scope=col>&lt;dbl&gt;</th><th scope=col>&lt;dbl&gt;</th><th scope=col>&lt;dbl&gt;</th><th scope=col>&lt;dbl&gt;</th><th scope=col>&lt;dbl&gt;</th></tr>\n",
       "</thead>\n",
       "<tbody>\n",
       "\t<tr><th scope=row>5</th><td>-0.9177921</td><td>0.9177921</td><td>-1.724669</td><td>-0.2379665</td><td>-0.4523949</td><td>-0.5089293</td><td>-0.3781926</td><td>-0.4379551</td><td>-0.2957032</td><td>-0.4379551</td><td>⋯</td><td>-1.3518416</td><td>1.5559281</td><td>-0.986557</td><td>-0.2379665</td><td>-0.8219949</td><td> 1.475256</td><td> 0.8868514</td><td> 3.04523485</td><td>-2.2343298</td><td>1</td></tr>\n",
       "\t<tr><th scope=row>7</th><td>-0.9177921</td><td>0.9177921</td><td>-1.601399</td><td>-0.2379665</td><td>-0.4523949</td><td>-0.5089293</td><td>-0.3781926</td><td>-0.4379551</td><td>-0.2957032</td><td> 2.2627682</td><td>⋯</td><td>-0.8793781</td><td>0.9840473</td><td>-0.986557</td><td>-0.2379665</td><td>-0.8219949</td><td> 1.475256</td><td> 0.8868514</td><td> 2.41810857</td><td>-1.9347277</td><td>1</td></tr>\n",
       "\t<tr><th scope=row>8</th><td>-0.9177921</td><td>0.9177921</td><td>-1.601399</td><td>-0.2379665</td><td> 2.1905439</td><td>-0.5089293</td><td>-0.3781926</td><td>-0.4379551</td><td>-0.2957032</td><td>-0.4379551</td><td>⋯</td><td> 0.7742443</td><td>0.4121664</td><td> 1.004494</td><td>-0.2379665</td><td>-0.8219949</td><td>-1.157435</td><td>-0.7987737</td><td>-0.09039658</td><td> 0.7616911</td><td>0</td></tr>\n",
       "\t<tr><th scope=row>12</th><td>-0.9177921</td><td>0.9177921</td><td>-1.601399</td><td>-0.2379665</td><td> 2.1905439</td><td>-0.5089293</td><td>-0.3781926</td><td>-0.4379551</td><td>-0.2957032</td><td>-0.4379551</td><td>⋯</td><td> 0.7742443</td><td>0.4121664</td><td> 1.004494</td><td>-0.2379665</td><td>-0.8219949</td><td>-1.157435</td><td>-0.7987737</td><td>-0.09039658</td><td> 0.7616911</td><td>0</td></tr>\n",
       "\t<tr><th scope=row>14</th><td>-0.9177921</td><td>0.9177921</td><td>-1.601399</td><td>-0.2379665</td><td> 2.1905439</td><td>-0.5089293</td><td>-0.3781926</td><td>-0.4379551</td><td>-0.2957032</td><td>-0.4379551</td><td>⋯</td><td>-1.3518416</td><td>1.5559281</td><td> 1.004494</td><td>-0.2379665</td><td>-0.8219949</td><td>-1.157435</td><td>-0.7987737</td><td>-0.09039658</td><td> 0.7616911</td><td>0</td></tr>\n",
       "\t<tr><th scope=row>24</th><td>-0.9177921</td><td>0.9177921</td><td>-1.478129</td><td>-0.2379665</td><td> 2.1905439</td><td>-0.5089293</td><td>-0.3781926</td><td>-0.4379551</td><td>-0.2957032</td><td>-0.4379551</td><td>⋯</td><td> 0.7742443</td><td>0.4121664</td><td> 1.004494</td><td>-0.2379665</td><td>-0.8219949</td><td>-1.157435</td><td>-0.7987737</td><td>-0.09039658</td><td> 0.7616911</td><td>0</td></tr>\n",
       "</tbody>\n",
       "</table>\n"
      ],
      "text/latex": [
       "A data.frame: 6 × 22\n",
       "\\begin{tabular}{r|lllllllllllllllllllll}\n",
       "  & GenderFemale & GenderMale & Age & OccupationAccountant & OccupationDoctor & OccupationEngineer & OccupationLawyer & OccupationNurse & OccupationSalesperson & OccupationTeacher & ⋯ & Physical.Activity.Level & Stress.Level & BMI.CategoryNormal & BMI.CategoryNormal.Weight & BMI.CategoryOverweight & Systolic & Diastolic & Heart.Rate & Daily.Steps & y\\_test\\\\\n",
       "  & <dbl> & <dbl> & <dbl> & <dbl> & <dbl> & <dbl> & <dbl> & <dbl> & <dbl> & <dbl> & ⋯ & <dbl> & <dbl> & <dbl> & <dbl> & <dbl> & <dbl> & <dbl> & <dbl> & <dbl> & <dbl>\\\\\n",
       "\\hline\n",
       "\t5 & -0.9177921 & 0.9177921 & -1.724669 & -0.2379665 & -0.4523949 & -0.5089293 & -0.3781926 & -0.4379551 & -0.2957032 & -0.4379551 & ⋯ & -1.3518416 & 1.5559281 & -0.986557 & -0.2379665 & -0.8219949 &  1.475256 &  0.8868514 &  3.04523485 & -2.2343298 & 1\\\\\n",
       "\t7 & -0.9177921 & 0.9177921 & -1.601399 & -0.2379665 & -0.4523949 & -0.5089293 & -0.3781926 & -0.4379551 & -0.2957032 &  2.2627682 & ⋯ & -0.8793781 & 0.9840473 & -0.986557 & -0.2379665 & -0.8219949 &  1.475256 &  0.8868514 &  2.41810857 & -1.9347277 & 1\\\\\n",
       "\t8 & -0.9177921 & 0.9177921 & -1.601399 & -0.2379665 &  2.1905439 & -0.5089293 & -0.3781926 & -0.4379551 & -0.2957032 & -0.4379551 & ⋯ &  0.7742443 & 0.4121664 &  1.004494 & -0.2379665 & -0.8219949 & -1.157435 & -0.7987737 & -0.09039658 &  0.7616911 & 0\\\\\n",
       "\t12 & -0.9177921 & 0.9177921 & -1.601399 & -0.2379665 &  2.1905439 & -0.5089293 & -0.3781926 & -0.4379551 & -0.2957032 & -0.4379551 & ⋯ &  0.7742443 & 0.4121664 &  1.004494 & -0.2379665 & -0.8219949 & -1.157435 & -0.7987737 & -0.09039658 &  0.7616911 & 0\\\\\n",
       "\t14 & -0.9177921 & 0.9177921 & -1.601399 & -0.2379665 &  2.1905439 & -0.5089293 & -0.3781926 & -0.4379551 & -0.2957032 & -0.4379551 & ⋯ & -1.3518416 & 1.5559281 &  1.004494 & -0.2379665 & -0.8219949 & -1.157435 & -0.7987737 & -0.09039658 &  0.7616911 & 0\\\\\n",
       "\t24 & -0.9177921 & 0.9177921 & -1.478129 & -0.2379665 &  2.1905439 & -0.5089293 & -0.3781926 & -0.4379551 & -0.2957032 & -0.4379551 & ⋯ &  0.7742443 & 0.4121664 &  1.004494 & -0.2379665 & -0.8219949 & -1.157435 & -0.7987737 & -0.09039658 &  0.7616911 & 0\\\\\n",
       "\\end{tabular}\n"
      ],
      "text/markdown": [
       "\n",
       "A data.frame: 6 × 22\n",
       "\n",
       "| <!--/--> | GenderFemale &lt;dbl&gt; | GenderMale &lt;dbl&gt; | Age &lt;dbl&gt; | OccupationAccountant &lt;dbl&gt; | OccupationDoctor &lt;dbl&gt; | OccupationEngineer &lt;dbl&gt; | OccupationLawyer &lt;dbl&gt; | OccupationNurse &lt;dbl&gt; | OccupationSalesperson &lt;dbl&gt; | OccupationTeacher &lt;dbl&gt; | ⋯ ⋯ | Physical.Activity.Level &lt;dbl&gt; | Stress.Level &lt;dbl&gt; | BMI.CategoryNormal &lt;dbl&gt; | BMI.CategoryNormal.Weight &lt;dbl&gt; | BMI.CategoryOverweight &lt;dbl&gt; | Systolic &lt;dbl&gt; | Diastolic &lt;dbl&gt; | Heart.Rate &lt;dbl&gt; | Daily.Steps &lt;dbl&gt; | y_test &lt;dbl&gt; |\n",
       "|---|---|---|---|---|---|---|---|---|---|---|---|---|---|---|---|---|---|---|---|---|---|\n",
       "| 5 | -0.9177921 | 0.9177921 | -1.724669 | -0.2379665 | -0.4523949 | -0.5089293 | -0.3781926 | -0.4379551 | -0.2957032 | -0.4379551 | ⋯ | -1.3518416 | 1.5559281 | -0.986557 | -0.2379665 | -0.8219949 |  1.475256 |  0.8868514 |  3.04523485 | -2.2343298 | 1 |\n",
       "| 7 | -0.9177921 | 0.9177921 | -1.601399 | -0.2379665 | -0.4523949 | -0.5089293 | -0.3781926 | -0.4379551 | -0.2957032 |  2.2627682 | ⋯ | -0.8793781 | 0.9840473 | -0.986557 | -0.2379665 | -0.8219949 |  1.475256 |  0.8868514 |  2.41810857 | -1.9347277 | 1 |\n",
       "| 8 | -0.9177921 | 0.9177921 | -1.601399 | -0.2379665 |  2.1905439 | -0.5089293 | -0.3781926 | -0.4379551 | -0.2957032 | -0.4379551 | ⋯ |  0.7742443 | 0.4121664 |  1.004494 | -0.2379665 | -0.8219949 | -1.157435 | -0.7987737 | -0.09039658 |  0.7616911 | 0 |\n",
       "| 12 | -0.9177921 | 0.9177921 | -1.601399 | -0.2379665 |  2.1905439 | -0.5089293 | -0.3781926 | -0.4379551 | -0.2957032 | -0.4379551 | ⋯ |  0.7742443 | 0.4121664 |  1.004494 | -0.2379665 | -0.8219949 | -1.157435 | -0.7987737 | -0.09039658 |  0.7616911 | 0 |\n",
       "| 14 | -0.9177921 | 0.9177921 | -1.601399 | -0.2379665 |  2.1905439 | -0.5089293 | -0.3781926 | -0.4379551 | -0.2957032 | -0.4379551 | ⋯ | -1.3518416 | 1.5559281 |  1.004494 | -0.2379665 | -0.8219949 | -1.157435 | -0.7987737 | -0.09039658 |  0.7616911 | 0 |\n",
       "| 24 | -0.9177921 | 0.9177921 | -1.478129 | -0.2379665 |  2.1905439 | -0.5089293 | -0.3781926 | -0.4379551 | -0.2957032 | -0.4379551 | ⋯ |  0.7742443 | 0.4121664 |  1.004494 | -0.2379665 | -0.8219949 | -1.157435 | -0.7987737 | -0.09039658 |  0.7616911 | 0 |\n",
       "\n"
      ],
      "text/plain": [
       "   GenderFemale GenderMale Age       OccupationAccountant OccupationDoctor\n",
       "5  -0.9177921   0.9177921  -1.724669 -0.2379665           -0.4523949      \n",
       "7  -0.9177921   0.9177921  -1.601399 -0.2379665           -0.4523949      \n",
       "8  -0.9177921   0.9177921  -1.601399 -0.2379665            2.1905439      \n",
       "12 -0.9177921   0.9177921  -1.601399 -0.2379665            2.1905439      \n",
       "14 -0.9177921   0.9177921  -1.601399 -0.2379665            2.1905439      \n",
       "24 -0.9177921   0.9177921  -1.478129 -0.2379665            2.1905439      \n",
       "   OccupationEngineer OccupationLawyer OccupationNurse OccupationSalesperson\n",
       "5  -0.5089293         -0.3781926       -0.4379551      -0.2957032           \n",
       "7  -0.5089293         -0.3781926       -0.4379551      -0.2957032           \n",
       "8  -0.5089293         -0.3781926       -0.4379551      -0.2957032           \n",
       "12 -0.5089293         -0.3781926       -0.4379551      -0.2957032           \n",
       "14 -0.5089293         -0.3781926       -0.4379551      -0.2957032           \n",
       "24 -0.5089293         -0.3781926       -0.4379551      -0.2957032           \n",
       "   OccupationTeacher ⋯ Physical.Activity.Level Stress.Level BMI.CategoryNormal\n",
       "5  -0.4379551        ⋯ -1.3518416              1.5559281    -0.986557         \n",
       "7   2.2627682        ⋯ -0.8793781              0.9840473    -0.986557         \n",
       "8  -0.4379551        ⋯  0.7742443              0.4121664     1.004494         \n",
       "12 -0.4379551        ⋯  0.7742443              0.4121664     1.004494         \n",
       "14 -0.4379551        ⋯ -1.3518416              1.5559281     1.004494         \n",
       "24 -0.4379551        ⋯  0.7742443              0.4121664     1.004494         \n",
       "   BMI.CategoryNormal.Weight BMI.CategoryOverweight Systolic  Diastolic \n",
       "5  -0.2379665                -0.8219949              1.475256  0.8868514\n",
       "7  -0.2379665                -0.8219949              1.475256  0.8868514\n",
       "8  -0.2379665                -0.8219949             -1.157435 -0.7987737\n",
       "12 -0.2379665                -0.8219949             -1.157435 -0.7987737\n",
       "14 -0.2379665                -0.8219949             -1.157435 -0.7987737\n",
       "24 -0.2379665                -0.8219949             -1.157435 -0.7987737\n",
       "   Heart.Rate  Daily.Steps y_test\n",
       "5   3.04523485 -2.2343298  1     \n",
       "7   2.41810857 -1.9347277  1     \n",
       "8  -0.09039658  0.7616911  0     \n",
       "12 -0.09039658  0.7616911  0     \n",
       "14 -0.09039658  0.7616911  0     \n",
       "24 -0.09039658  0.7616911  0     "
      ]
     },
     "metadata": {},
     "output_type": "display_data"
    }
   ],
   "source": [
    "X_train <- cbind(X_train, y_train)\n",
    "X_test <- cbind(X_test, y_test)\n",
    "head(X_train)\n",
    "head(X_test)"
   ]
  },
  {
   "cell_type": "code",
   "execution_count": 419,
   "id": "7ab6a391",
   "metadata": {
    "vscode": {
     "languageId": "r"
    }
   },
   "outputs": [
    {
     "data": {
      "text/html": [
       "<style>\n",
       ".list-inline {list-style: none; margin:0; padding: 0}\n",
       ".list-inline>li {display: inline-block}\n",
       ".list-inline>li:not(:last-child)::after {content: \"\\00b7\"; padding: 0 .5ex}\n",
       "</style>\n",
       "<ol class=list-inline><li>26.9006564430623</li><li>21.8382783571291</li><li>11.7370765988302</li><li>9.23960132566964</li><li>6.30281470469965</li><li>5.9205594419872</li><li>5.22771177281459</li><li>3.84269585735804</li><li>3.19152389353179</li><li>1.8736305186336</li><li>1.21508996111143</li><li>0.942582435300349</li><li>0.531496207123524</li><li>0.312762750208391</li><li>0.287439203984207</li><li>0.239267128534028</li><li>0.194244503592952</li><li>0.0876806413476643</li><li>0.0673376383008559</li><li>0.0315807963560874</li><li>0.0159698204245113</li><li>3.14771104074932e-29</li></ol>\n"
      ],
      "text/latex": [
       "\\begin{enumerate*}\n",
       "\\item 26.9006564430623\n",
       "\\item 21.8382783571291\n",
       "\\item 11.7370765988302\n",
       "\\item 9.23960132566964\n",
       "\\item 6.30281470469965\n",
       "\\item 5.9205594419872\n",
       "\\item 5.22771177281459\n",
       "\\item 3.84269585735804\n",
       "\\item 3.19152389353179\n",
       "\\item 1.8736305186336\n",
       "\\item 1.21508996111143\n",
       "\\item 0.942582435300349\n",
       "\\item 0.531496207123524\n",
       "\\item 0.312762750208391\n",
       "\\item 0.287439203984207\n",
       "\\item 0.239267128534028\n",
       "\\item 0.194244503592952\n",
       "\\item 0.0876806413476643\n",
       "\\item 0.0673376383008559\n",
       "\\item 0.0315807963560874\n",
       "\\item 0.0159698204245113\n",
       "\\item 3.14771104074932e-29\n",
       "\\end{enumerate*}\n"
      ],
      "text/markdown": [
       "1. 26.9006564430623\n",
       "2. 21.8382783571291\n",
       "3. 11.7370765988302\n",
       "4. 9.23960132566964\n",
       "5. 6.30281470469965\n",
       "6. 5.9205594419872\n",
       "7. 5.22771177281459\n",
       "8. 3.84269585735804\n",
       "9. 3.19152389353179\n",
       "10. 1.8736305186336\n",
       "11. 1.21508996111143\n",
       "12. 0.942582435300349\n",
       "13. 0.531496207123524\n",
       "14. 0.312762750208391\n",
       "15. 0.287439203984207\n",
       "16. 0.239267128534028\n",
       "17. 0.194244503592952\n",
       "18. 0.0876806413476643\n",
       "19. 0.0673376383008559\n",
       "20. 0.0315807963560874\n",
       "21. 0.0159698204245113\n",
       "22. 3.14771104074932e-29\n",
       "\n",
       "\n"
      ],
      "text/plain": [
       " [1] 2.690066e+01 2.183828e+01 1.173708e+01 9.239601e+00 6.302815e+00\n",
       " [6] 5.920559e+00 5.227712e+00 3.842696e+00 3.191524e+00 1.873631e+00\n",
       "[11] 1.215090e+00 9.425824e-01 5.314962e-01 3.127628e-01 2.874392e-01\n",
       "[16] 2.392671e-01 1.942445e-01 8.768064e-02 6.733764e-02 3.158080e-02\n",
       "[21] 1.596982e-02 3.147711e-29"
      ]
     },
     "metadata": {},
     "output_type": "display_data"
    },
    {
     "ename": "ERROR",
     "evalue": "Error in predict.prcomp(pca_train, newdata = train): 'newdata' does not have named columns matching one or more of the original columns\n",
     "output_type": "error",
     "traceback": [
      "Error in predict.prcomp(pca_train, newdata = train): 'newdata' does not have named columns matching one or more of the original columns\nTraceback:\n",
      "1. predict(pca_train, newdata = train)",
      "2. predict.prcomp(pca_train, newdata = train)",
      "3. stop(\"'newdata' does not have named columns matching one or more of the original columns\")"
     ]
    },
    {
     "data": {
      "image/png": "[encoded data removed]",
      "text/plain": [
       "plot without title"
      ]
     },
     "metadata": {
      "image/png": {
       "height": 420,
       "width": 420
      }
     },
     "output_type": "display_data"
    }
   ],
   "source": [
    "# Feature Reduction\n",
    "# Run PCA on training set\n",
    "pca_train <- prcomp(X_train)\n",
    "X_train_var <- (pca_train$sdev)^2*100/sum((pca_train$sdev)^2)\n",
    "X_train_var\n",
    "\n",
    "# Plot the variance explained by each principal component\n",
    "plot(X_train_var)\n",
    "\n",
    "# Apply the transformation to both the training and test sets\n",
    "pca_train_data <- predict(pca_train, newdata = train)\n",
    "pca_test_data <- predict(pca_train, newdata = test)\n",
    "\n",
    "# PLot Predictors\n",
    "#boxplot(X_train)\n",
    "#boxplot(X_test)"
   ]
  },
  {
   "attachments": {},
   "cell_type": "markdown",
   "id": "dea97ebe",
   "metadata": {},
   "source": [
    "# Modeling"
   ]
  },
  {
   "cell_type": "code",
   "execution_count": 420,
   "id": "98c09dfa",
   "metadata": {
    "vscode": {
     "languageId": "r"
    }
   },
   "outputs": [],
   "source": [
    "# Define the target variable and set as factor. Isolate the target variable for testing later\n",
    "target_variable_train <- \"y_train\"\n",
    "target_variable_test <- \"y_test\"\n",
    "y_train <- as.factor(y_train)\n",
    "y_test <- as.factor(y_test)\n",
    "X_train[[target_variable_train]] <- as.factor(X_train[[target_variable_train]])\n",
    "X_test[[target_variable_test]] <- as.factor(X_test[[target_variable_test]])"
   ]
  },
  {
   "attachments": {},
   "cell_type": "markdown",
   "id": "27383a66",
   "metadata": {},
   "source": [
    "## Random Forest - 0.9279\n",
    "### It's an ensemble method therefor the final prediction is the average of a handful of unique smaller models. This is achieved by breaking the data into unqiue subsections and training a decision tree model on each of these unique subsections - train model on 2 random features and 10 random instances, then train model on 4 random features and 3 random instances, and so forth using other resmapling techniques. The final predcition is the ensemble of all the individual guesses; use mean if the target variable is continuous or use mode if the target variable is categorical. \n",
    "\n",
    "### Hyperparameters: # of trees, # of predictors considered at each split, and tree depth.\n",
    "### Scalability: It can handle moderate-sized datasets and scales well with the number of trees.\n",
    "\n",
    "\n",
    "## Data Structure: data frame\n",
    "## Target Variable Type: convert to factor"
   ]
  },
  {
   "cell_type": "code",
   "execution_count": 421,
   "id": "ea672909",
   "metadata": {
    "vscode": {
     "languageId": "r"
    }
   },
   "outputs": [
    {
     "data": {
      "text/plain": [
       "Confusion Matrix and Statistics\n",
       "\n",
       "          Reference\n",
       "Prediction  0  1\n",
       "         0 61  4\n",
       "         1  4 42\n",
       "                                          \n",
       "               Accuracy : 0.9279          \n",
       "                 95% CI : (0.8629, 0.9684)\n",
       "    No Information Rate : 0.5856          \n",
       "    P-Value [Acc > NIR] : 4.959e-16       \n",
       "                                          \n",
       "                  Kappa : 0.8515          \n",
       "                                          \n",
       " Mcnemar's Test P-Value : 1               \n",
       "                                          \n",
       "            Sensitivity : 0.9385          \n",
       "            Specificity : 0.9130          \n",
       "         Pos Pred Value : 0.9385          \n",
       "         Neg Pred Value : 0.9130          \n",
       "             Prevalence : 0.5856          \n",
       "         Detection Rate : 0.5495          \n",
       "   Detection Prevalence : 0.5856          \n",
       "      Balanced Accuracy : 0.9258          \n",
       "                                          \n",
       "       'Positive' Class : 0               \n",
       "                                          "
      ]
     },
     "metadata": {},
     "output_type": "display_data"
    }
   ],
   "source": [
    "set.seed(123)\n",
    "library(randomForest)\n",
    "\n",
    "# Random Forest\n",
    "rf_model <- train(y_train ~ ., data = X_train, method = \"rf\", \n",
    "    trControl = trainControl(method = \"cv\", number = 5), ntree = 100)\n",
    "\n",
    "rf_pred <- predict(rf_model, newdata = X_test[-22])\n",
    "rf_cm <- confusionMatrix(rf_pred, y_test)\n",
    "rf_cm"
   ]
  },
  {
   "attachments": {},
   "cell_type": "markdown",
   "id": "b0b0c435",
   "metadata": {},
   "source": [
    "## Bagged ADA Boost - 0.9099\n",
    "\n",
    "### An ensemble method which aggregates the predictions of models which are iteratively improved therough a technique called boosting. At each iteration in the training process, the instances that were falsely classified are given more weight. In consequence (or as a reward in this case), the hardest instances to predict will have greater effect on the model's decisions. The final prediction is the most voted on class.\n",
    "\n",
    "### Hyperparameters: learning rate, # of trees, tree depth, and regularization parameters.\n",
    "### Scalability: It can handle moderate-sized datasets efficiently. Can be computationally intensive, especially when # of iterations (boosting rounds) is high.\n",
    "\n",
    "## Data Structure: data frame\n",
    "## Target Variable Type: convert to factor"
   ]
  },
  {
   "cell_type": "code",
   "execution_count": 422,
   "id": "58c3b5da",
   "metadata": {
    "vscode": {
     "languageId": "r"
    }
   },
   "outputs": [
    {
     "data": {
      "text/plain": [
       "Confusion Matrix and Statistics\n",
       "\n",
       "          Reference\n",
       "Prediction  0  1\n",
       "         0 59  4\n",
       "         1  6 42\n",
       "                                          \n",
       "               Accuracy : 0.9099          \n",
       "                 95% CI : (0.8406, 0.9559)\n",
       "    No Information Rate : 0.5856          \n",
       "    P-Value [Acc > NIR] : 2.997e-14       \n",
       "                                          \n",
       "                  Kappa : 0.8156          \n",
       "                                          \n",
       " Mcnemar's Test P-Value : 0.7518          \n",
       "                                          \n",
       "            Sensitivity : 0.9077          \n",
       "            Specificity : 0.9130          \n",
       "         Pos Pred Value : 0.9365          \n",
       "         Neg Pred Value : 0.8750          \n",
       "             Prevalence : 0.5856          \n",
       "         Detection Rate : 0.5315          \n",
       "   Detection Prevalence : 0.5676          \n",
       "      Balanced Accuracy : 0.9104          \n",
       "                                          \n",
       "       'Positive' Class : 0               \n",
       "                                          "
      ]
     },
     "metadata": {},
     "output_type": "display_data"
    }
   ],
   "source": [
    "set.seed(123)\n",
    "library(adabag)\n",
    "\n",
    "# Bagged AdaBoost\n",
    "bag_model <- boosting(y_train ~ ., data = X_train, boos=TRUE)\n",
    "\n",
    "# Predict using Bagged AdaBoost model\n",
    "bag_pred <- predict(bag_model, newdata = X_test[-22])\n",
    "bag_predict <- bag_pred$class\n",
    "bag_predict <- as.factor(bag_predict)\n",
    "\n",
    "#Calculate model statistics for Bagged AdaBoost\n",
    "bag_cm <- confusionMatrix(bag_predict, y_test)\n",
    "bag_cm"
   ]
  },
  {
   "attachments": {},
   "cell_type": "markdown",
   "id": "9b46c172",
   "metadata": {},
   "source": [
    "## XGBoost - Accuracy 0.9279\n",
    "\n",
    "### Also an emsemble method that works by using gradient descent to minimize a selected loss function. The loss function uses both calssification error from each indivisdaul tree(like AdaBoost), BUT also considers the complexity of the overall model (number of trees, size of the trees). Additionally, it automatically handles the following: outliers(L1 and L2 regularization which is lasso and ridge respectively) and implements cross-validation at each iteration.\n",
    "\n",
    "### Hyperparameters: # of iterations (boosting rounds) and the learning rate.\n",
    "### Scalability: It can handle large datasets and is optimized for both training and prediction speed.\n",
    "\n",
    "## Data Structure: data frame with target variable removed\n",
    "## Target Variable Type: binary vector"
   ]
  },
  {
   "cell_type": "code",
   "execution_count": 423,
   "id": "066e85eb",
   "metadata": {
    "vscode": {
     "languageId": "r"
    }
   },
   "outputs": [
    {
     "data": {
      "text/plain": [
       "Confusion Matrix and Statistics\n",
       "\n",
       "          Reference\n",
       "Prediction  0  1\n",
       "         0 61  4\n",
       "         1  4 42\n",
       "                                          \n",
       "               Accuracy : 0.9279          \n",
       "                 95% CI : (0.8629, 0.9684)\n",
       "    No Information Rate : 0.5856          \n",
       "    P-Value [Acc > NIR] : 4.959e-16       \n",
       "                                          \n",
       "                  Kappa : 0.8515          \n",
       "                                          \n",
       " Mcnemar's Test P-Value : 1               \n",
       "                                          \n",
       "            Sensitivity : 0.9385          \n",
       "            Specificity : 0.9130          \n",
       "         Pos Pred Value : 0.9385          \n",
       "         Neg Pred Value : 0.9130          \n",
       "             Prevalence : 0.5856          \n",
       "         Detection Rate : 0.5495          \n",
       "   Detection Prevalence : 0.5856          \n",
       "      Balanced Accuracy : 0.9258          \n",
       "                                          \n",
       "       'Positive' Class : 0               \n",
       "                                          "
      ]
     },
     "metadata": {},
     "output_type": "display_data"
    }
   ],
   "source": [
    "set.seed(123)\n",
    "library(xgboost)\n",
    "\n",
    "# Convert the data into xgb.DMatrix\n",
    "dtrain <- xgb.DMatrix(data = as.matrix(X_train[, -ncol(X_train)]), label = as.matrix(X_train[, ncol(X_train)]))\n",
    "\n",
    "# Set parameters\n",
    "params <- list(objective = \"binary:logistic\",eta = 0.3,max_depth = 6,eval_metric = \"error\")\n",
    "\n",
    "# Train the model\n",
    "xg_model <- xgb.train(params = params,data = dtrain,nrounds = 50)\n",
    "\n",
    "# Create DMatrix for test data\n",
    "dtest <- xgb.DMatrix(data = as.matrix(X_test[, -ncol(X_test)]), label = as.matrix(X_test[, ncol(X_test)]))\n",
    "\n",
    "# Make predictions\n",
    "xg_pred <- predict(xg_model, newdata = dtest)\n",
    "\n",
    "# Apply rounding function\n",
    "xg_pred <- ifelse(xg_pred >= 0.5, 1, 0)\n",
    "xg_pred <- as.factor(xg_pred)\n",
    "\n",
    "#Calculate model statistics for Bagged AdaBoost\n",
    "xg_cm <- confusionMatrix(xg_pred, y_test)\n",
    "xg_cm"
   ]
  },
  {
   "cell_type": "code",
   "execution_count": null,
   "id": "cb3cddb2",
   "metadata": {
    "vscode": {
     "languageId": "r"
    }
   },
   "outputs": [],
   "source": []
  },
  {
   "cell_type": "code",
   "execution_count": null,
   "id": "2bdbd4ab",
   "metadata": {
    "vscode": {
     "languageId": "r"
    }
   },
   "outputs": [],
   "source": []
  }
 ],
 "metadata": {
  "kernelspec": {
   "display_name": "R",
   "language": "R",
   "name": "ir"
  },
  "language_info": {
   "codemirror_mode": "r",
   "file_extension": ".r",
   "mimetype": "text/x-r-source",
   "name": "R",
   "pygments_lexer": "r",
   "version": "4.3.0"
  }
 },
 "nbformat": 4,
 "nbformat_minor": 5
}
